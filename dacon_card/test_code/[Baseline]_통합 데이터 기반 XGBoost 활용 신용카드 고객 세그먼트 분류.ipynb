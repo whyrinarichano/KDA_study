{
 "cells": [
  {
   "cell_type": "markdown",
   "metadata": {},
   "source": [
    "### Import"
   ]
  },
  {
   "cell_type": "markdown",
   "metadata": {},
   "source": []
  },
  {
   "cell_type": "code",
   "execution_count": null,
   "metadata": {},
   "outputs": [],
   "source": []
  },
  {
   "cell_type": "code",
   "execution_count": 1,
   "metadata": {},
   "outputs": [
    {
     "name": "stdout",
     "output_type": "stream",
     "text": [
      "8\n"
     ]
    }
   ],
   "source": [
    "print(4+4)"
   ]
  },
  {
   "cell_type": "code",
   "execution_count": 2,
   "metadata": {},
   "outputs": [],
   "source": [
    "import pandas as pd\n",
    "import numpy as np\n",
    "import gc\n",
    "\n",
    "import xgboost as xgb\n",
    "from sklearn.preprocessing import LabelEncoder"
   ]
  },
  {
   "cell_type": "markdown",
   "metadata": {},
   "source": [
    "### Data Load"
   ]
  },
  {
   "cell_type": "code",
   "execution_count": 5,
   "metadata": {},
   "outputs": [
    {
     "name": "stdout",
     "output_type": "stream",
     "text": [
      "customer_train_07 is loaded from /home/cksgh8511/키움/card/open/train/1.회원정보/201807_train_회원정보.parquet\n"
     ]
    },
    {
     "ename": "ArrowInvalid",
     "evalue": "Could not open Parquet input source '<Buffer>': Parquet magic bytes not found in footer. Either the file is corrupted or this is not a parquet file.",
     "output_type": "error",
     "traceback": [
      "\u001b[0;31m---------------------------------------------------------------------------\u001b[0m",
      "\u001b[0;31mArrowInvalid\u001b[0m                              Traceback (most recent call last)",
      "Cell \u001b[0;32mIn[5], line 31\u001b[0m\n\u001b[1;32m     29\u001b[0m             \u001b[38;5;66;03m# 변수명 형식: {var_prefix}_{split}_{month}\u001b[39;00m\n\u001b[1;32m     30\u001b[0m             variable_name \u001b[38;5;241m=\u001b[39m \u001b[38;5;124mf\u001b[39m\u001b[38;5;124m\"\u001b[39m\u001b[38;5;132;01m{\u001b[39;00mvar_prefix\u001b[38;5;132;01m}\u001b[39;00m\u001b[38;5;124m_\u001b[39m\u001b[38;5;132;01m{\u001b[39;00msplit\u001b[38;5;132;01m}\u001b[39;00m\u001b[38;5;124m_\u001b[39m\u001b[38;5;132;01m{\u001b[39;00mmonth\u001b[38;5;132;01m}\u001b[39;00m\u001b[38;5;124m\"\u001b[39m\n\u001b[0;32m---> 31\u001b[0m             \u001b[38;5;28mglobals\u001b[39m()[variable_name] \u001b[38;5;241m=\u001b[39m pd\u001b[38;5;241m.\u001b[39mread_parquet(file_path)\n\u001b[1;32m     32\u001b[0m             \u001b[38;5;28mprint\u001b[39m(\u001b[38;5;124mf\u001b[39m\u001b[38;5;124m\"\u001b[39m\u001b[38;5;132;01m{\u001b[39;00mvariable_name\u001b[38;5;132;01m}\u001b[39;00m\u001b[38;5;124m is loaded from \u001b[39m\u001b[38;5;132;01m{\u001b[39;00mfile_path\u001b[38;5;132;01m}\u001b[39;00m\u001b[38;5;124m\"\u001b[39m)\n\u001b[1;32m     34\u001b[0m gc\u001b[38;5;241m.\u001b[39mcollect()\n",
      "File \u001b[0;32m~/anaconda3/lib/python3.12/site-packages/pandas/io/parquet.py:667\u001b[0m, in \u001b[0;36mread_parquet\u001b[0;34m(path, engine, columns, storage_options, use_nullable_dtypes, dtype_backend, filesystem, filters, **kwargs)\u001b[0m\n\u001b[1;32m    664\u001b[0m     use_nullable_dtypes \u001b[38;5;241m=\u001b[39m \u001b[38;5;28;01mFalse\u001b[39;00m\n\u001b[1;32m    665\u001b[0m check_dtype_backend(dtype_backend)\n\u001b[0;32m--> 667\u001b[0m \u001b[38;5;28;01mreturn\u001b[39;00m impl\u001b[38;5;241m.\u001b[39mread(\n\u001b[1;32m    668\u001b[0m     path,\n\u001b[1;32m    669\u001b[0m     columns\u001b[38;5;241m=\u001b[39mcolumns,\n\u001b[1;32m    670\u001b[0m     filters\u001b[38;5;241m=\u001b[39mfilters,\n\u001b[1;32m    671\u001b[0m     storage_options\u001b[38;5;241m=\u001b[39mstorage_options,\n\u001b[1;32m    672\u001b[0m     use_nullable_dtypes\u001b[38;5;241m=\u001b[39muse_nullable_dtypes,\n\u001b[1;32m    673\u001b[0m     dtype_backend\u001b[38;5;241m=\u001b[39mdtype_backend,\n\u001b[1;32m    674\u001b[0m     filesystem\u001b[38;5;241m=\u001b[39mfilesystem,\n\u001b[1;32m    675\u001b[0m     \u001b[38;5;241m*\u001b[39m\u001b[38;5;241m*\u001b[39mkwargs,\n\u001b[1;32m    676\u001b[0m )\n",
      "File \u001b[0;32m~/anaconda3/lib/python3.12/site-packages/pandas/io/parquet.py:274\u001b[0m, in \u001b[0;36mPyArrowImpl.read\u001b[0;34m(self, path, columns, filters, use_nullable_dtypes, dtype_backend, storage_options, filesystem, **kwargs)\u001b[0m\n\u001b[1;32m    267\u001b[0m path_or_handle, handles, filesystem \u001b[38;5;241m=\u001b[39m _get_path_or_handle(\n\u001b[1;32m    268\u001b[0m     path,\n\u001b[1;32m    269\u001b[0m     filesystem,\n\u001b[1;32m    270\u001b[0m     storage_options\u001b[38;5;241m=\u001b[39mstorage_options,\n\u001b[1;32m    271\u001b[0m     mode\u001b[38;5;241m=\u001b[39m\u001b[38;5;124m\"\u001b[39m\u001b[38;5;124mrb\u001b[39m\u001b[38;5;124m\"\u001b[39m,\n\u001b[1;32m    272\u001b[0m )\n\u001b[1;32m    273\u001b[0m \u001b[38;5;28;01mtry\u001b[39;00m:\n\u001b[0;32m--> 274\u001b[0m     pa_table \u001b[38;5;241m=\u001b[39m \u001b[38;5;28mself\u001b[39m\u001b[38;5;241m.\u001b[39mapi\u001b[38;5;241m.\u001b[39mparquet\u001b[38;5;241m.\u001b[39mread_table(\n\u001b[1;32m    275\u001b[0m         path_or_handle,\n\u001b[1;32m    276\u001b[0m         columns\u001b[38;5;241m=\u001b[39mcolumns,\n\u001b[1;32m    277\u001b[0m         filesystem\u001b[38;5;241m=\u001b[39mfilesystem,\n\u001b[1;32m    278\u001b[0m         filters\u001b[38;5;241m=\u001b[39mfilters,\n\u001b[1;32m    279\u001b[0m         \u001b[38;5;241m*\u001b[39m\u001b[38;5;241m*\u001b[39mkwargs,\n\u001b[1;32m    280\u001b[0m     )\n\u001b[1;32m    281\u001b[0m     result \u001b[38;5;241m=\u001b[39m pa_table\u001b[38;5;241m.\u001b[39mto_pandas(\u001b[38;5;241m*\u001b[39m\u001b[38;5;241m*\u001b[39mto_pandas_kwargs)\n\u001b[1;32m    283\u001b[0m     \u001b[38;5;28;01mif\u001b[39;00m manager \u001b[38;5;241m==\u001b[39m \u001b[38;5;124m\"\u001b[39m\u001b[38;5;124marray\u001b[39m\u001b[38;5;124m\"\u001b[39m:\n",
      "File \u001b[0;32m~/anaconda3/lib/python3.12/site-packages/pyarrow/parquet/core.py:1762\u001b[0m, in \u001b[0;36mread_table\u001b[0;34m(source, columns, use_threads, schema, use_pandas_metadata, read_dictionary, memory_map, buffer_size, partitioning, filesystem, filters, use_legacy_dataset, ignore_prefixes, pre_buffer, coerce_int96_timestamp_unit, decryption_properties, thrift_string_size_limit, thrift_container_size_limit, page_checksum_verification)\u001b[0m\n\u001b[1;32m   1756\u001b[0m     warnings\u001b[38;5;241m.\u001b[39mwarn(\n\u001b[1;32m   1757\u001b[0m         \u001b[38;5;124m\"\u001b[39m\u001b[38;5;124mPassing \u001b[39m\u001b[38;5;124m'\u001b[39m\u001b[38;5;124muse_legacy_dataset\u001b[39m\u001b[38;5;124m'\u001b[39m\u001b[38;5;124m is deprecated as of pyarrow 15.0.0 \u001b[39m\u001b[38;5;124m\"\u001b[39m\n\u001b[1;32m   1758\u001b[0m         \u001b[38;5;124m\"\u001b[39m\u001b[38;5;124mand will be removed in a future version.\u001b[39m\u001b[38;5;124m\"\u001b[39m,\n\u001b[1;32m   1759\u001b[0m         \u001b[38;5;167;01mFutureWarning\u001b[39;00m, stacklevel\u001b[38;5;241m=\u001b[39m\u001b[38;5;241m2\u001b[39m)\n\u001b[1;32m   1761\u001b[0m \u001b[38;5;28;01mtry\u001b[39;00m:\n\u001b[0;32m-> 1762\u001b[0m     dataset \u001b[38;5;241m=\u001b[39m ParquetDataset(\n\u001b[1;32m   1763\u001b[0m         source,\n\u001b[1;32m   1764\u001b[0m         schema\u001b[38;5;241m=\u001b[39mschema,\n\u001b[1;32m   1765\u001b[0m         filesystem\u001b[38;5;241m=\u001b[39mfilesystem,\n\u001b[1;32m   1766\u001b[0m         partitioning\u001b[38;5;241m=\u001b[39mpartitioning,\n\u001b[1;32m   1767\u001b[0m         memory_map\u001b[38;5;241m=\u001b[39mmemory_map,\n\u001b[1;32m   1768\u001b[0m         read_dictionary\u001b[38;5;241m=\u001b[39mread_dictionary,\n\u001b[1;32m   1769\u001b[0m         buffer_size\u001b[38;5;241m=\u001b[39mbuffer_size,\n\u001b[1;32m   1770\u001b[0m         filters\u001b[38;5;241m=\u001b[39mfilters,\n\u001b[1;32m   1771\u001b[0m         ignore_prefixes\u001b[38;5;241m=\u001b[39mignore_prefixes,\n\u001b[1;32m   1772\u001b[0m         pre_buffer\u001b[38;5;241m=\u001b[39mpre_buffer,\n\u001b[1;32m   1773\u001b[0m         coerce_int96_timestamp_unit\u001b[38;5;241m=\u001b[39mcoerce_int96_timestamp_unit,\n\u001b[1;32m   1774\u001b[0m         thrift_string_size_limit\u001b[38;5;241m=\u001b[39mthrift_string_size_limit,\n\u001b[1;32m   1775\u001b[0m         thrift_container_size_limit\u001b[38;5;241m=\u001b[39mthrift_container_size_limit,\n\u001b[1;32m   1776\u001b[0m         page_checksum_verification\u001b[38;5;241m=\u001b[39mpage_checksum_verification,\n\u001b[1;32m   1777\u001b[0m     )\n\u001b[1;32m   1778\u001b[0m \u001b[38;5;28;01mexcept\u001b[39;00m \u001b[38;5;167;01mImportError\u001b[39;00m:\n\u001b[1;32m   1779\u001b[0m     \u001b[38;5;66;03m# fall back on ParquetFile for simple cases when pyarrow.dataset\u001b[39;00m\n\u001b[1;32m   1780\u001b[0m     \u001b[38;5;66;03m# module is not available\u001b[39;00m\n\u001b[1;32m   1781\u001b[0m     \u001b[38;5;28;01mif\u001b[39;00m filters \u001b[38;5;129;01mis\u001b[39;00m \u001b[38;5;129;01mnot\u001b[39;00m \u001b[38;5;28;01mNone\u001b[39;00m:\n",
      "File \u001b[0;32m~/anaconda3/lib/python3.12/site-packages/pyarrow/parquet/core.py:1329\u001b[0m, in \u001b[0;36mParquetDataset.__init__\u001b[0;34m(self, path_or_paths, filesystem, schema, filters, read_dictionary, memory_map, buffer_size, partitioning, ignore_prefixes, pre_buffer, coerce_int96_timestamp_unit, decryption_properties, thrift_string_size_limit, thrift_container_size_limit, page_checksum_verification, use_legacy_dataset)\u001b[0m\n\u001b[1;32m   1325\u001b[0m \u001b[38;5;28;01mif\u001b[39;00m single_file \u001b[38;5;129;01mis\u001b[39;00m \u001b[38;5;129;01mnot\u001b[39;00m \u001b[38;5;28;01mNone\u001b[39;00m:\n\u001b[1;32m   1326\u001b[0m     fragment \u001b[38;5;241m=\u001b[39m parquet_format\u001b[38;5;241m.\u001b[39mmake_fragment(single_file, filesystem)\n\u001b[1;32m   1328\u001b[0m     \u001b[38;5;28mself\u001b[39m\u001b[38;5;241m.\u001b[39m_dataset \u001b[38;5;241m=\u001b[39m ds\u001b[38;5;241m.\u001b[39mFileSystemDataset(\n\u001b[0;32m-> 1329\u001b[0m         [fragment], schema\u001b[38;5;241m=\u001b[39mschema \u001b[38;5;129;01mor\u001b[39;00m fragment\u001b[38;5;241m.\u001b[39mphysical_schema,\n\u001b[1;32m   1330\u001b[0m         \u001b[38;5;28mformat\u001b[39m\u001b[38;5;241m=\u001b[39mparquet_format,\n\u001b[1;32m   1331\u001b[0m         filesystem\u001b[38;5;241m=\u001b[39mfragment\u001b[38;5;241m.\u001b[39mfilesystem\n\u001b[1;32m   1332\u001b[0m     )\n\u001b[1;32m   1333\u001b[0m     \u001b[38;5;28;01mreturn\u001b[39;00m\n\u001b[1;32m   1335\u001b[0m \u001b[38;5;66;03m# check partitioning to enable dictionary encoding\u001b[39;00m\n",
      "File \u001b[0;32m~/anaconda3/lib/python3.12/site-packages/pyarrow/_dataset.pyx:1431\u001b[0m, in \u001b[0;36mpyarrow._dataset.Fragment.physical_schema.__get__\u001b[0;34m()\u001b[0m\n",
      "File \u001b[0;32m~/anaconda3/lib/python3.12/site-packages/pyarrow/error.pxi:154\u001b[0m, in \u001b[0;36mpyarrow.lib.pyarrow_internal_check_status\u001b[0;34m()\u001b[0m\n",
      "File \u001b[0;32m~/anaconda3/lib/python3.12/site-packages/pyarrow/error.pxi:91\u001b[0m, in \u001b[0;36mpyarrow.lib.check_status\u001b[0;34m()\u001b[0m\n",
      "\u001b[0;31mArrowInvalid\u001b[0m: Could not open Parquet input source '<Buffer>': Parquet magic bytes not found in footer. Either the file is corrupted or this is not a parquet file."
     ]
    }
   ],
   "source": [
    "# 데이터 분할(폴더) 구분\n",
    "data_splits = [\"train\", \"test\"]\n",
    "\n",
    "# 각 데이터 유형별 폴더명, 파일 접미사, 변수 접두어 설정\n",
    "data_categories = {\n",
    "    \"회원정보\": {\"folder\": \"1.회원정보\", \"suffix\": \"회원정보\", \"var_prefix\": \"customer\"},\n",
    "    \"신용정보\": {\"folder\": \"2.신용정보\", \"suffix\": \"신용정보\", \"var_prefix\": \"credit\"},\n",
    "    \"승인매출정보\": {\"folder\": \"3.승인매출정보\", \"suffix\": \"승인매출정보\", \"var_prefix\": \"sales\"},\n",
    "    \"청구정보\": {\"folder\": \"4.청구입금정보\", \"suffix\": \"청구정보\", \"var_prefix\": \"billing\"},\n",
    "    \"잔액정보\": {\"folder\": \"5.잔액정보\", \"suffix\": \"잔액정보\", \"var_prefix\": \"balance\"},\n",
    "    \"채널정보\": {\"folder\": \"6.채널정보\", \"suffix\": \"채널정보\", \"var_prefix\": \"channel\"},\n",
    "    \"마케팅정보\": {\"folder\": \"7.마케팅정보\", \"suffix\": \"마케팅정보\", \"var_prefix\": \"marketing\"},\n",
    "    \"성과정보\": {\"folder\": \"8.성과정보\", \"suffix\": \"성과정보\", \"var_prefix\": \"performance\"}\n",
    "}\n",
    "\n",
    "# 2018년 7월부터 12월까지의 월 리스트\n",
    "months = ['07']\n",
    "\n",
    "path = '/home/cksgh8511/키움/card/open'\n",
    "for split in data_splits:\n",
    "    for category, info in data_categories.items():\n",
    "        folder = info[\"folder\"]\n",
    "        suffix = info[\"suffix\"]\n",
    "        var_prefix = info[\"var_prefix\"]\n",
    "        \n",
    "        for month in months:\n",
    "            # 파일명 형식: 2018{month}_{split}_{suffix}.parquet\n",
    "            file_path = f\"{path}/{split}/{folder}/2018{month}_{split}_{suffix}.parquet\"\n",
    "            # 변수명 형식: {var_prefix}_{split}_{month}\n",
    "            variable_name = f\"{var_prefix}_{split}_{month}\"\n",
    "            globals()[variable_name] = pd.read_parquet(file_path)\n",
    "            print(f\"{variable_name} is loaded from {file_path}\")\n",
    "\n",
    "gc.collect()"
   ]
  },
  {
   "cell_type": "markdown",
   "metadata": {},
   "source": [
    "### Data Preprocessing(1) : Concat & Merge"
   ]
  },
  {
   "cell_type": "code",
   "execution_count": 26,
   "metadata": {},
   "outputs": [],
   "source": [
    "# 데이터 유형별 설정 \n",
    "info_categories = [\"customer\", \"credit\", \"sales\", \"billing\", \"balance\", \"channel\", \"marketing\", \"performance\"]\n",
    "\n",
    "# 월 설정\n",
    "months = ['07']\n",
    "# months = ['07', '08', '09', '10', '11', '12']"
   ]
  },
  {
   "cell_type": "code",
   "execution_count": 27,
   "metadata": {},
   "outputs": [
    {
     "name": "stdout",
     "output_type": "stream",
     "text": [
      "customer_train_df is created with shape: (400000, 78)\n",
      "credit_train_df is created with shape: (400000, 42)\n",
      "sales_train_df is created with shape: (400000, 406)\n",
      "billing_train_df is created with shape: (400000, 46)\n",
      "balance_train_df is created with shape: (400000, 82)\n",
      "channel_train_df is created with shape: (400000, 105)\n",
      "marketing_train_df is created with shape: (400000, 64)\n",
      "performance_train_df is created with shape: (400000, 49)\n"
     ]
    },
    {
     "data": {
      "text/plain": [
       "0"
      ]
     },
     "execution_count": 27,
     "metadata": {},
     "output_type": "execute_result"
    }
   ],
   "source": [
    "#### Train ####\n",
    "\n",
    "# 각 유형별로 월별 데이터를 합쳐서 새로운 변수에 저장\n",
    "train_dfs = {}\n",
    "\n",
    "for prefix in info_categories:\n",
    "    # globals()에서 동적 변수명으로 데이터프레임들을 가져와 리스트에 저장\n",
    "    df_list = [globals()[f\"{prefix}_train_{month}\"] for month in months]\n",
    "    train_dfs[f\"{prefix}_train_df\"] = pd.concat(df_list, axis=0)\n",
    "    gc.collect()\n",
    "    print(f\"{prefix}_train_df is created with shape: {train_dfs[f'{prefix}_train_df'].shape}\")\n",
    "\n",
    "\n",
    "customer_train_df = train_dfs[\"customer_train_df\"]\n",
    "credit_train_df   = train_dfs[\"credit_train_df\"]\n",
    "sales_train_df    = train_dfs[\"sales_train_df\"]\n",
    "billing_train_df  = train_dfs[\"billing_train_df\"]\n",
    "balance_train_df  = train_dfs[\"balance_train_df\"]\n",
    "channel_train_df  = train_dfs[\"channel_train_df\"]\n",
    "marketing_train_df= train_dfs[\"marketing_train_df\"]\n",
    "performance_train_df = train_dfs[\"performance_train_df\"]\n",
    "\n",
    "gc.collect()"
   ]
  },
  {
   "cell_type": "code",
   "execution_count": 28,
   "metadata": {},
   "outputs": [
    {
     "name": "stdout",
     "output_type": "stream",
     "text": [
      "\n",
      "[customer_train_df 컬럼 목록] (78 columns)\n",
      "['기준년월', 'ID', '남녀구분코드', '연령', 'Segment', '회원여부_이용가능', '회원여부_이용가능_CA', '회원여부_이용가능_카드론', '소지여부_신용', '소지카드수_유효_신용', '소지카드수_이용가능_신용', '입회일자_신용', '입회경과개월수_신용', '회원여부_연체', '이용거절여부_카드론', '동의여부_한도증액안내', '수신거부여부_TM', '수신거부여부_DM', '수신거부여부_메일', '수신거부여부_SMS', '가입통신회사코드', '탈회횟수_누적', '최종탈회후경과월', '탈회횟수_발급6개월이내', '탈회횟수_발급1년이내', '거주시도명', '직장시도명', '마케팅동의여부', '유효카드수_신용체크', '유효카드수_신용', '유효카드수_신용_가족', '유효카드수_체크', '유효카드수_체크_가족', '이용가능카드수_신용체크', '이용가능카드수_신용', '이용가능카드수_신용_가족', '이용가능카드수_체크', '이용가능카드수_체크_가족', '이용카드수_신용체크', '이용카드수_신용', '이용카드수_신용_가족', '이용카드수_체크', '이용카드수_체크_가족', '이용금액_R3M_신용체크', '이용금액_R3M_신용', '이용금액_R3M_신용_가족', '이용금액_R3M_체크', '이용금액_R3M_체크_가족', '_1순위카드이용금액', '_1순위카드이용건수', '_1순위신용체크구분', '_2순위카드이용금액', '_2순위카드이용건수', '_2순위신용체크구분', '최종유효년월_신용_이용가능', '최종유효년월_신용_이용', '최종카드발급일자', '보유여부_해외겸용_본인', '이용가능여부_해외겸용_본인', '이용여부_3M_해외겸용_본인', '보유여부_해외겸용_신용_본인', '이용가능여부_해외겸용_신용_본인', '이용여부_3M_해외겸용_신용_본인', '연회비발생카드수_B0M', '연회비할인카드수_B0M', '기본연회비_B0M', '제휴연회비_B0M', '할인금액_기본연회비_B0M', '할인금액_제휴연회비_B0M', '청구금액_기본연회비_B0M', '청구금액_제휴연회비_B0M', '상품관련면제카드수_B0M', '임직원면제카드수_B0M', '우수회원면제카드수_B0M', '기타면제카드수_B0M', '카드신청건수', 'Life_Stage', '최종카드발급경과월']\n",
      "\n",
      "[credit_train_df 컬럼 목록] (42 columns)\n",
      "['기준년월', 'ID', '최초한도금액', '카드이용한도금액', 'CA한도금액', '일시상환론한도금액', '월상환론한도금액', 'CA이자율_할인전', 'CL이자율_할인전', 'RV일시불이자율_할인전', 'RV현금서비스이자율_할인전', 'RV신청일자', 'RV약정청구율', 'RV최소결제비율', '자발한도감액횟수_R12M', '자발한도감액금액_R12M', '자발한도감액후경과월', '강제한도감액횟수_R12M', '강제한도감액금액_R12M', '강제한도감액후경과월', '한도증액횟수_R12M', '한도증액금액_R12M', '한도증액후경과월', '상향가능한도금액', '상향가능CA한도금액', '카드론동의여부', '월상환론상향가능한도금액', 'RV전환가능여부', '일시불ONLY전환가능여부', '카드이용한도금액_B1M', '카드이용한도금액_B2M', '특별한도보유여부_R3M', '연체감액여부_R3M', '한도심사요청건수', '한도요청거절건수', '한도심사요청후경과월', '한도심사거절후경과월', '시장단기연체여부_R6M', '시장단기연체여부_R3M', '시장연체상환여부_R6M', '시장연체상환여부_R3M', 'rv최초시작후경과일']\n",
      "\n",
      "[sales_train_df 컬럼 목록] (406 columns)\n",
      "['기준년월', 'ID', '최종이용일자_기본', '최종이용일자_신판', '최종이용일자_CA', '최종이용일자_카드론', '최종이용일자_체크', '최종이용일자_일시불', '최종이용일자_할부', '이용건수_신용_B0M', '이용건수_신판_B0M', '이용건수_일시불_B0M', '이용건수_할부_B0M', '이용건수_할부_유이자_B0M', '이용건수_할부_무이자_B0M', '이용건수_부분무이자_B0M', '이용건수_CA_B0M', '이용건수_체크_B0M', '이용건수_카드론_B0M', '이용금액_일시불_B0M', '이용금액_할부_B0M', '이용금액_할부_유이자_B0M', '이용금액_할부_무이자_B0M', '이용금액_부분무이자_B0M', '이용금액_CA_B0M', '이용금액_체크_B0M', '이용금액_카드론_B0M', '이용후경과월_신용', '이용후경과월_신판', '이용후경과월_일시불', '이용후경과월_할부', '이용후경과월_할부_유이자', '이용후경과월_할부_무이자', '이용후경과월_부분무이자', '이용후경과월_CA', '이용후경과월_체크', '이용후경과월_카드론', '이용건수_신용_R12M', '이용건수_신판_R12M', '이용건수_일시불_R12M', '이용건수_할부_R12M', '이용건수_할부_유이자_R12M', '이용건수_할부_무이자_R12M', '이용건수_부분무이자_R12M', '이용건수_CA_R12M', '이용건수_체크_R12M', '이용건수_카드론_R12M', '이용금액_일시불_R12M', '이용금액_할부_R12M', '이용금액_할부_유이자_R12M', '이용금액_할부_무이자_R12M', '이용금액_부분무이자_R12M', '이용금액_CA_R12M', '이용금액_체크_R12M', '이용금액_카드론_R12M', '최대이용금액_일시불_R12M', '최대이용금액_할부_R12M', '최대이용금액_할부_유이자_R12M', '최대이용금액_할부_무이자_R12M', '최대이용금액_부분무이자_R12M', '최대이용금액_CA_R12M', '최대이용금액_체크_R12M', '최대이용금액_카드론_R12M', '이용개월수_신용_R12M', '이용개월수_신판_R12M', '이용개월수_일시불_R12M', '이용개월수_할부_R12M', '이용개월수_할부_유이자_R12M', '이용개월수_할부_무이자_R12M', '이용개월수_부분무이자_R12M', '이용개월수_CA_R12M', '이용개월수_체크_R12M', '이용개월수_카드론_R12M', '이용건수_신용_R6M', '이용건수_신판_R6M', '이용건수_일시불_R6M', '이용건수_할부_R6M', '이용건수_할부_유이자_R6M', '이용건수_할부_무이자_R6M', '이용건수_부분무이자_R6M', '이용건수_CA_R6M', '이용건수_체크_R6M', '이용건수_카드론_R6M', '이용금액_일시불_R6M', '이용금액_할부_R6M', '이용금액_할부_유이자_R6M', '이용금액_할부_무이자_R6M', '이용금액_부분무이자_R6M', '이용금액_CA_R6M', '이용금액_체크_R6M', '이용금액_카드론_R6M', '이용개월수_신용_R6M', '이용개월수_신판_R6M', '이용개월수_일시불_R6M', '이용개월수_할부_R6M', '이용개월수_할부_유이자_R6M', '이용개월수_할부_무이자_R6M', '이용개월수_부분무이자_R6M', '이용개월수_CA_R6M', '이용개월수_체크_R6M', '이용개월수_카드론_R6M', '이용건수_신용_R3M', '이용건수_신판_R3M', '이용건수_일시불_R3M', '이용건수_할부_R3M', '이용건수_할부_유이자_R3M', '이용건수_할부_무이자_R3M', '이용건수_부분무이자_R3M', '이용건수_CA_R3M', '이용건수_체크_R3M', '이용건수_카드론_R3M', '이용금액_일시불_R3M', '이용금액_할부_R3M', '이용금액_할부_유이자_R3M', '이용금액_할부_무이자_R3M', '이용금액_부분무이자_R3M', '이용금액_CA_R3M', '이용금액_체크_R3M', '이용금액_카드론_R3M', '이용개월수_신용_R3M', '이용개월수_신판_R3M', '이용개월수_일시불_R3M', '이용개월수_할부_R3M', '이용개월수_할부_유이자_R3M', '이용개월수_할부_무이자_R3M', '이용개월수_부분무이자_R3M', '이용개월수_CA_R3M', '이용개월수_체크_R3M', '이용개월수_카드론_R3M', '이용가맹점수', '이용금액_해외', '쇼핑_도소매_이용금액', '쇼핑_백화점_이용금액', '쇼핑_마트_이용금액', '쇼핑_슈퍼마켓_이용금액', '쇼핑_편의점_이용금액', '쇼핑_아울렛_이용금액', '쇼핑_온라인_이용금액', '쇼핑_기타_이용금액', '교통_주유이용금액', '교통_정비이용금액', '교통_통행료이용금액', '교통_버스지하철이용금액', '교통_택시이용금액', '교통_철도버스이용금액', '여유_운동이용금액', '여유_Pet이용금액', '여유_공연이용금액', '여유_공원이용금액', '여유_숙박이용금액', '여유_여행이용금액', '여유_항공이용금액', '여유_기타이용금액', '납부_통신비이용금액', '납부_관리비이용금액', '납부_렌탈료이용금액', '납부_가스전기료이용금액', '납부_보험료이용금액', '납부_유선방송이용금액', '납부_건강연금이용금액', '납부_기타이용금액', '_1순위업종', '_1순위업종_이용금액', '_2순위업종', '_2순위업종_이용금액', '_3순위업종', '_3순위업종_이용금액', '_1순위쇼핑업종', '_1순위쇼핑업종_이용금액', '_2순위쇼핑업종', '_2순위쇼핑업종_이용금액', '_3순위쇼핑업종', '_3순위쇼핑업종_이용금액', '_1순위교통업종', '_1순위교통업종_이용금액', '_2순위교통업종', '_2순위교통업종_이용금액', '_3순위교통업종', '_3순위교통업종_이용금액', '_1순위여유업종', '_1순위여유업종_이용금액', '_2순위여유업종', '_2순위여유업종_이용금액', '_3순위여유업종', '_3순위여유업종_이용금액', '_1순위납부업종', '_1순위납부업종_이용금액', '_2순위납부업종', '_2순위납부업종_이용금액', '_3순위납부업종', '_3순위납부업종_이용금액', '할부건수_3M_R12M', '할부건수_6M_R12M', '할부건수_12M_R12M', '할부건수_14M_R12M', '할부금액_3M_R12M', '할부금액_6M_R12M', '할부금액_12M_R12M', '할부금액_14M_R12M', '할부건수_유이자_3M_R12M', '할부건수_유이자_6M_R12M', '할부건수_유이자_12M_R12M', '할부건수_유이자_14M_R12M', '할부금액_유이자_3M_R12M', '할부금액_유이자_6M_R12M', '할부금액_유이자_12M_R12M', '할부금액_유이자_14M_R12M', '할부건수_무이자_3M_R12M', '할부건수_무이자_6M_R12M', '할부건수_무이자_12M_R12M', '할부건수_무이자_14M_R12M', '할부금액_무이자_3M_R12M', '할부금액_무이자_6M_R12M', '할부금액_무이자_12M_R12M', '할부금액_무이자_14M_R12M', '할부건수_부분_3M_R12M', '할부건수_부분_6M_R12M', '할부건수_부분_12M_R12M', '할부건수_부분_14M_R12M', '할부금액_부분_3M_R12M', '할부금액_부분_6M_R12M', '할부금액_부분_12M_R12M', '할부금액_부분_14M_R12M', 'RP건수_B0M', 'RP금액_B0M', 'RP유형건수_B0M', 'RP건수_통신_B0M', 'RP건수_아파트_B0M', 'RP건수_제휴사서비스직접판매_B0M', 'RP건수_렌탈_B0M', 'RP건수_가스_B0M', 'RP건수_전기_B0M', 'RP건수_보험_B0M', 'RP건수_학습비_B0M', 'RP건수_유선방송_B0M', 'RP건수_건강_B0M', 'RP건수_교통_B0M', 'RP후경과월', 'RP후경과월_통신', 'RP후경과월_아파트', 'RP후경과월_제휴사서비스직접판매', 'RP후경과월_렌탈', 'RP후경과월_가스', 'RP후경과월_전기', 'RP후경과월_보험', 'RP후경과월_학습비', 'RP후경과월_유선방송', 'RP후경과월_건강', 'RP후경과월_교통', '증감_RP건수_전월', '증감_RP유형건수_전월', '증감_RP건수_통신_전월', '증감_RP건수_아파트_전월', '증감_RP건수_제휴사서비스직접판매_전월', '증감_RP건수_렌탈_전월', '증감_RP건수_가스_전월', '증감_RP건수_전기_전월', '증감_RP건수_보험_전월', '증감_RP건수_학습비_전월', '증감_RP건수_유선방송_전월', '증감_RP건수_건강_전월', '증감_RP건수_교통_전월', '최초카드론이용경과월', '최종카드론이용경과월', '카드론이용건수_누적', '카드론이용월수_누적', '카드론이용금액_누적', '최종카드론_금융상환방식코드', '최종카드론_신청경로코드', '최종카드론_대출이율', '최종카드론_대출일자', '최종카드론_대출월수', '최종카드론_거치개월수', '최종카드론_대출금액', '이용개월수_온라인_R6M', '이용개월수_오프라인_R6M', '이용금액_온라인_R6M', '이용금액_오프라인_R6M', '이용건수_온라인_R6M', '이용건수_오프라인_R6M', '이용금액_온라인_R3M', '이용금액_오프라인_R3M', '이용건수_온라인_R3M', '이용건수_오프라인_R3M', '이용금액_온라인_B0M', '이용금액_오프라인_B0M', '이용건수_온라인_B0M', '이용건수_오프라인_B0M', '이용개월수_페이_온라인_R6M', '이용개월수_페이_오프라인_R6M', '이용금액_페이_온라인_R6M', '이용금액_페이_오프라인_R6M', '이용건수_페이_온라인_R6M', '이용건수_페이_오프라인_R6M', '이용금액_페이_온라인_R3M', '이용금액_페이_오프라인_R3M', '이용건수_페이_온라인_R3M', '이용건수_페이_오프라인_R3M', '이용금액_페이_온라인_B0M', '이용금액_페이_오프라인_B0M', '이용건수_페이_온라인_B0M', '이용건수_페이_오프라인_B0M', '이용개월수_간편결제_R6M', '이용개월수_당사페이_R6M', '이용개월수_당사기타_R6M', '이용개월수_A페이_R6M', '이용개월수_B페이_R6M', '이용개월수_C페이_R6M', '이용개월수_D페이_R6M', '이용금액_간편결제_R6M', '이용금액_당사페이_R6M', '이용금액_당사기타_R6M', '이용금액_A페이_R6M', '이용금액_B페이_R6M', '이용금액_C페이_R6M', '이용금액_D페이_R6M', '이용건수_간편결제_R6M', '이용건수_당사페이_R6M', '이용건수_당사기타_R6M', '이용건수_A페이_R6M', '이용건수_B페이_R6M', '이용건수_C페이_R6M', '이용건수_D페이_R6M', '이용금액_간편결제_R3M', '이용금액_당사페이_R3M', '이용금액_당사기타_R3M', '이용금액_A페이_R3M', '이용금액_B페이_R3M', '이용금액_C페이_R3M', '이용금액_D페이_R3M', '이용건수_간편결제_R3M', '이용건수_당사페이_R3M', '이용건수_당사기타_R3M', '이용건수_A페이_R3M', '이용건수_B페이_R3M', '이용건수_C페이_R3M', '이용건수_D페이_R3M', '이용금액_간편결제_B0M', '이용금액_당사페이_B0M', '이용금액_당사기타_B0M', '이용금액_A페이_B0M', '이용금액_B페이_B0M', '이용금액_C페이_B0M', '이용금액_D페이_B0M', '이용건수_간편결제_B0M', '이용건수_당사페이_B0M', '이용건수_당사기타_B0M', '이용건수_A페이_B0M', '이용건수_B페이_B0M', '이용건수_C페이_B0M', '이용건수_D페이_B0M', '이용개월수_선결제_R6M', '이용횟수_선결제_R6M', '이용금액_선결제_R6M', '이용건수_선결제_R6M', '이용횟수_선결제_R3M', '이용금액_선결제_R3M', '이용건수_선결제_R3M', '이용횟수_선결제_B0M', '이용금액_선결제_B0M', '이용건수_선결제_B0M', '이용횟수_연체_R6M', '이용금액_연체_R6M', '이용횟수_연체_R3M', '이용금액_연체_R3M', '이용횟수_연체_B0M', '이용금액_연체_B0M', '이용개월수_전체_R6M', '이용개월수_전체_R3M', '이용개월수_결제일_R6M', '이용개월수_결제일_R3M', '가맹점매출금액_B1M', '가맹점매출금액_B2M', '정상청구원금_B0M', '선입금원금_B0M', '정상입금원금_B0M', '연체입금원금_B0M', '정상청구원금_B2M', '선입금원금_B2M', '정상입금원금_B2M', '연체입금원금_B2M', '정상청구원금_B5M', '선입금원금_B5M', '정상입금원금_B5M', '연체입금원금_B5M', '건수_할부전환_R6M', '건수_할부전환_R3M', '금액_할부전환_R6M', '금액_할부전환_R3M', '연속무실적개월수_기본_24M_카드', '연속유실적개월수_기본_24M_카드', '신청건수_ATM_CA_B0', '신청건수_ATM_CL_B0', '신청건수_ATM_CA_R6M', '신청건수_ATM_CL_R6M', '승인거절건수_B0M', '승인거절건수_한도초과_B0M', '승인거절건수_BL_B0M', '승인거절건수_입력오류_B0M', '승인거절건수_기타_B0M', '승인거절건수_R3M', '승인거절건수_한도초과_R3M', '승인거절건수_BL_R3M', '승인거절건수_입력오류_R3M', '승인거절건수_기타_R3M', '이용금액대']\n",
      "\n",
      "[billing_train_df 컬럼 목록] (46 columns)\n",
      "['기준년월', 'ID', '대표결제일', '대표결제방법코드', '대표청구지고객주소구분코드', '대표청구서수령지구분코드', '청구서수령방법', '청구서발송여부_B0', '청구서발송여부_R3M', '청구서발송여부_R6M', '청구금액_B0', '청구금액_R3M', '청구금액_R6M', '포인트_마일리지_건별_B0M', '포인트_마일리지_건별_R3M', '포인트_포인트_건별_B0M', '포인트_포인트_건별_R3M', '포인트_마일리지_월적립_B0M', '포인트_마일리지_월적립_R3M', '포인트_포인트_월적립_B0M', '포인트_포인트_월적립_R3M', '포인트_적립포인트_R12M', '포인트_적립포인트_R3M', '포인트_이용포인트_R12M', '포인트_이용포인트_R3M', '포인트_잔여포인트_B0M', '마일_적립포인트_R12M', '마일_적립포인트_R3M', '마일_이용포인트_R12M', '마일_이용포인트_R3M', '마일_잔여포인트_B0M', '할인건수_R3M', '할인금액_R3M', '할인건수_B0M', '할인금액_B0M', '할인금액_청구서_R3M', '할인금액_청구서_B0M', '상환개월수_결제일_R6M', '상환개월수_결제일_R3M', '선결제건수_R6M', '선결제건수_R3M', '연체건수_R6M', '연체건수_R3M', '혜택수혜금액_R3M', '포인트_마일리지_환산_B0M', '혜택수혜금액']\n",
      "\n",
      "[balance_train_df 컬럼 목록] (82 columns)\n",
      "['기준년월', 'ID', '잔액_일시불_B0M', '잔액_할부_B0M', '잔액_현금서비스_B0M', '잔액_리볼빙일시불이월_B0M', '잔액_리볼빙CA이월_B0M', '잔액_카드론_B0M', '월중평잔_일시불_B0M', '월중평잔_할부_B0M', '월중평잔_CA_B0M', '카드론잔액_최종경과월', '연체일자_B0M', '연체잔액_B0M', '연체잔액_일시불_B0M', '연체잔액_할부_B0M', '연체잔액_현금서비스_B0M', '연체잔액_카드론_B0M', '연체잔액_대환론_B0M', '잔액_현금서비스_B1M', '잔액_현금서비스_B2M', '잔액_카드론_B1M', '잔액_카드론_B2M', '잔액_카드론_B3M', '잔액_카드론_B4M', '잔액_카드론_B5M', '잔액_할부_B1M', '잔액_할부_B2M', '잔액_일시불_B1M', '잔액_일시불_B2M', '연체일수_B1M', '연체일수_B2M', '연체원금_B1M', '연체원금_B2M', '연체일수_최근', '연체원금_최근', '최종연체회차', '매각잔액_B1M', '최종연체개월수_R15M', 'RV_평균잔액_R12M', 'RV_최대잔액_R12M', 'RV_평균잔액_R6M', 'RV_최대잔액_R6M', 'RV_평균잔액_R3M', 'RV_최대잔액_R3M', 'RV잔액이월횟수_R6M', 'RV잔액이월횟수_R3M', '잔액_할부_유이자_B0M', '잔액_할부_무이자_B0M', '잔액_할부_해외_B0M', '연체잔액_일시불_해외_B0M', '연체잔액_RV일시불_B0M', '연체잔액_RV일시불_해외_B0M', '연체잔액_할부_해외_B0M', '연체잔액_CA_B0M', '연체잔액_CA_해외_B0M', '월중평잔', '월중평잔_일시불', '월중평잔_RV일시불', '월중평잔_할부', '월중평잔_CA', '월중평잔_카드론', '평잔_3M', '평잔_일시불_3M', '평잔_일시불_해외_3M', '평잔_RV일시불_3M', '평잔_RV일시불_해외_3M', '평잔_할부_3M', '평잔_할부_해외_3M', '평잔_CA_3M', '평잔_CA_해외_3M', '평잔_카드론_3M', '평잔_6M', '평잔_일시불_6M', '평잔_일시불_해외_6M', '평잔_RV일시불_6M', '평잔_RV일시불_해외_6M', '평잔_할부_6M', '평잔_할부_해외_6M', '평잔_CA_6M', '평잔_CA_해외_6M', '평잔_카드론_6M']\n",
      "\n",
      "[channel_train_df 컬럼 목록] (105 columns)\n",
      "['기준년월', 'ID', '인입횟수_ARS_R6M', '이용메뉴건수_ARS_R6M', '인입일수_ARS_R6M', '인입월수_ARS_R6M', '인입후경과월_ARS', '인입횟수_ARS_B0M', '이용메뉴건수_ARS_B0M', '인입일수_ARS_B0M', '방문횟수_PC_R6M', '방문일수_PC_R6M', '방문월수_PC_R6M', '방문후경과월_PC_R6M', '방문횟수_앱_R6M', '방문일수_앱_R6M', '방문월수_앱_R6M', '방문후경과월_앱_R6M', '방문횟수_모바일웹_R6M', '방문일수_모바일웹_R6M', '방문월수_모바일웹_R6M', '방문후경과월_모바일웹_R6M', '방문횟수_PC_B0M', '방문일수_PC_B0M', '방문횟수_앱_B0M', '방문일수_앱_B0M', '방문횟수_모바일웹_B0M', '방문일수_모바일웹_B0M', '인입횟수_IB_R6M', '인입횟수_금융_IB_R6M', '인입일수_IB_R6M', '인입월수_IB_R6M', '이용메뉴건수_IB_R6M', '인입후경과월_IB_R6M', '인입횟수_IB_B0M', '인입일수_IB_B0M', '이용메뉴건수_IB_B0M', '인입불만횟수_IB_R6M', '인입불만일수_IB_R6M', '인입불만월수_IB_R6M', '인입불만후경과월_IB_R6M', '인입불만횟수_IB_B0M', '인입불만일수_IB_B0M', '상담건수_B0M', 'IB문의건수_사용승인내역_B0M', 'IB문의건수_한도_B0M', 'IB문의건수_선결제_B0M', 'IB문의건수_결제_B0M', 'IB문의건수_할부_B0M', 'IB문의건수_정보변경_B0M', 'IB문의건수_결제일변경_B0M', 'IB문의건수_명세서_B0M', 'IB문의건수_비밀번호_B0M', 'IB문의건수_SMS_B0M', 'IB문의건수_APP_B0M', 'IB문의건수_부대서비스_B0M', 'IB문의건수_포인트_B0M', 'IB문의건수_카드발급_B0M', 'IB문의건수_BL_B0M', 'IB문의건수_분실도난_B0M', 'IB문의건수_CA_B0M', 'IB문의건수_CL_RV_B0M', 'IB문의건수_CS_B0M', 'IB상담건수_VOC_B0M', 'IB상담건수_VOC민원_B0M', 'IB상담건수_VOC불만_B0M', 'IB상담건수_금감원_B0M', '상담건수_R6M', 'IB문의건수_사용승인내역_R6M', 'IB문의건수_한도_R6M', 'IB문의건수_선결제_R6M', 'IB문의건수_결제_R6M', 'IB문의건수_할부_R6M', 'IB문의건수_정보변경_R6M', 'IB문의건수_결제일변경_R6M', 'IB문의건수_명세서_R6M', 'IB문의건수_비밀번호_R6M', 'IB문의건수_SMS_R6M', 'IB문의건수_APP_R6M', 'IB문의건수_부대서비스_R6M', 'IB문의건수_포인트_R6M', 'IB문의건수_카드발급_R6M', 'IB문의건수_BL_R6M', 'IB문의건수_분실도난_R6M', 'IB문의건수_CA_R6M', 'IB문의건수_CL_RV_R6M', 'IB문의건수_CS_R6M', 'IB상담건수_VOC_R6M', 'IB상담건수_VOC민원_R6M', 'IB상담건수_VOC불만_R6M', 'IB상담건수_금감원_R6M', '불만제기건수_B0M', '불만제기건수_R12M', '불만제기후경과월_R12M', '당사PAY_방문횟수_B0M', '당사PAY_방문횟수_R6M', '당사PAY_방문월수_R6M', '당사멤버쉽_방문횟수_B0M', '당사멤버쉽_방문횟수_R6M', '당사멤버쉽_방문월수_R6M', 'OS구분코드', '홈페이지_금융건수_R6M', '홈페이지_선결제건수_R6M', '홈페이지_금융건수_R3M', '홈페이지_선결제건수_R3M']\n",
      "\n",
      "[marketing_train_df 컬럼 목록] (64 columns)\n",
      "['기준년월', 'ID', '컨택건수_카드론_TM_B0M', '컨택건수_리볼빙_TM_B0M', '컨택건수_CA_TM_B0M', '컨택건수_이용유도_TM_B0M', '컨택건수_신용발급_TM_B0M', '컨택건수_부대서비스_TM_B0M', '컨택건수_포인트소진_TM_B0M', '컨택건수_보험_TM_B0M', '컨택건수_카드론_LMS_B0M', '컨택건수_CA_LMS_B0M', '컨택건수_리볼빙_LMS_B0M', '컨택건수_이용유도_LMS_B0M', '컨택건수_카드론_EM_B0M', '컨택건수_CA_EM_B0M', '컨택건수_리볼빙_EM_B0M', '컨택건수_이용유도_EM_B0M', '컨택건수_카드론_청구서_B0M', '컨택건수_CA_청구서_B0M', '컨택건수_리볼빙_청구서_B0M', '컨택건수_이용유도_청구서_B0M', '컨택건수_카드론_인터넷_B0M', '컨택건수_CA_인터넷_B0M', '컨택건수_리볼빙_인터넷_B0M', '컨택건수_이용유도_인터넷_B0M', '컨택건수_카드론_당사앱_B0M', '컨택건수_CA_당사앱_B0M', '컨택건수_리볼빙_당사앱_B0M', '컨택건수_이용유도_당사앱_B0M', '컨택건수_카드론_TM_R6M', '컨택건수_CA_TM_R6M', '컨택건수_리볼빙_TM_R6M', '컨택건수_이용유도_TM_R6M', '컨택건수_신용발급_TM_R6M', '컨택건수_부대서비스_TM_R6M', '컨택건수_포인트소진_TM_R6M', '컨택건수_보험_TM_R6M', '컨택건수_카드론_LMS_R6M', '컨택건수_CA_LMS_R6M', '컨택건수_리볼빙_LMS_R6M', '컨택건수_이용유도_LMS_R6M', '컨택건수_카드론_EM_R6M', '컨택건수_CA_EM_R6M', '컨택건수_리볼빙_EM_R6M', '컨택건수_이용유도_EM_R6M', '컨택건수_카드론_청구서_R6M', '컨택건수_CA_청구서_R6M', '컨택건수_리볼빙_청구서_R6M', '컨택건수_이용유도_청구서_R6M', '컨택건수_카드론_인터넷_R6M', '컨택건수_CA_인터넷_R6M', '컨택건수_리볼빙_인터넷_R6M', '컨택건수_이용유도_인터넷_R6M', '컨택건수_카드론_당사앱_R6M', '컨택건수_CA_당사앱_R6M', '컨택건수_리볼빙_당사앱_R6M', '컨택건수_이용유도_당사앱_R6M', '컨택건수_채권_B0M', '컨택건수_FDS_B0M', '컨택건수_채권_R6M', '컨택건수_FDS_R6M', '캠페인접촉건수_R12M', '캠페인접촉일수_R12M']\n",
      "\n",
      "[performance_train_df 컬럼 목록] (49 columns)\n",
      "['기준년월', 'ID', '증감율_이용건수_신용_전월', '증감율_이용건수_신판_전월', '증감율_이용건수_일시불_전월', '증감율_이용건수_할부_전월', '증감율_이용건수_CA_전월', '증감율_이용건수_체크_전월', '증감율_이용건수_카드론_전월', '증감율_이용금액_신용_전월', '증감율_이용금액_신판_전월', '증감율_이용금액_일시불_전월', '증감율_이용금액_할부_전월', '증감율_이용금액_CA_전월', '증감율_이용금액_체크_전월', '증감율_이용금액_카드론_전월', '증감율_이용건수_신용_분기', '증감율_이용건수_신판_분기', '증감율_이용건수_일시불_분기', '증감율_이용건수_할부_분기', '증감율_이용건수_CA_분기', '증감율_이용건수_체크_분기', '증감율_이용건수_카드론_분기', '증감율_이용금액_신용_분기', '증감율_이용금액_신판_분기', '증감율_이용금액_일시불_분기', '증감율_이용금액_할부_분기', '증감율_이용금액_CA_분기', '증감율_이용금액_체크_분기', '증감율_이용금액_카드론_분기', '잔액_신판평균한도소진율_r6m', '잔액_신판최대한도소진율_r6m', '잔액_신판평균한도소진율_r3m', '잔액_신판최대한도소진율_r3m', '잔액_신판ca평균한도소진율_r6m', '잔액_신판ca최대한도소진율_r6m', '잔액_신판ca평균한도소진율_r3m', '잔액_신판ca최대한도소진율_r3m', '변동률_일시불평잔', '변동률_RV일시불평잔', '변동률_할부평잔', '변동률_CA평잔', '변동률_RVCA평잔', '변동률_카드론평잔', '변동률_잔액_B1M', '변동률_잔액_일시불_B1M', '변동률_잔액_CA_B1M', '혜택수혜율_R3M', '혜택수혜율_B0M']\n"
     ]
    }
   ],
   "source": [
    "dfs = {\n",
    "    \"customer_train_df\": customer_train_df,\n",
    "    \"credit_train_df\": credit_train_df,\n",
    "    \"sales_train_df\": sales_train_df,\n",
    "    \"billing_train_df\": billing_train_df,\n",
    "    \"balance_train_df\": balance_train_df,\n",
    "    \"channel_train_df\": channel_train_df,\n",
    "    \"marketing_train_df\": marketing_train_df,\n",
    "    \"performance_train_df\": performance_train_df\n",
    "}\n",
    "\n",
    "# 각 데이터프레임의 컬럼 출력\n",
    "for name, df in dfs.items():\n",
    "    print(f\"\\n[{name} 컬럼 목록] ({df.shape[1]} columns)\")\n",
    "    print(df.columns.tolist())"
   ]
  },
  {
   "cell_type": "code",
   "execution_count": 29,
   "metadata": {},
   "outputs": [
    {
     "name": "stdout",
     "output_type": "stream",
     "text": [
      "[customer_train_df] 상수 feature 개수 (기준년월 제외): 9개\n",
      " - ['이용카드수_체크_가족', '이용금액_R3M_체크_가족', '연회비할인카드수_B0M', '할인금액_기본연회비_B0M', '할인금액_제휴연회비_B0M', '상품관련면제카드수_B0M', '임직원면제카드수_B0M', '우수회원면제카드수_B0M', '기타면제카드수_B0M']\n",
      "[credit_train_df] 상수 feature 개수 (기준년월 제외): 1개\n",
      " - ['시장연체상환여부_R3M']\n",
      "[sales_train_df] 상수 feature 개수 (기준년월 제외): 36개\n",
      " - ['이용건수_부분무이자_B0M', '이용금액_부분무이자_B0M', '여유_여행이용금액', '납부_렌탈료이용금액', '납부_유선방송이용금액', '납부_건강연금이용금액', '할부건수_부분_3M_R12M', '할부건수_부분_6M_R12M', '할부건수_부분_14M_R12M', '할부금액_부분_3M_R12M', '할부금액_부분_6M_R12M', 'RP건수_유선방송_B0M', 'RP건수_건강_B0M', 'RP후경과월_유선방송', 'RP후경과월_건강', '증감_RP건수_아파트_전월', '증감_RP건수_렌탈_전월', '증감_RP건수_보험_전월', '증감_RP건수_학습비_전월', '증감_RP건수_유선방송_전월', '증감_RP건수_건강_전월', '이용개월수_당사페이_R6M', '이용금액_당사페이_R6M', '이용금액_당사기타_R6M', '이용건수_당사페이_R6M', '이용건수_당사기타_R6M', '이용금액_당사페이_R3M', '이용금액_당사기타_R3M', '이용건수_당사페이_R3M', '이용건수_당사기타_R3M', '이용금액_당사페이_B0M', '이용금액_당사기타_B0M', '이용건수_당사페이_B0M', '이용건수_당사기타_B0M', '승인거절건수_입력오류_B0M', '승인거절건수_기타_B0M']\n",
      "[billing_train_df] 상수 feature 개수 (기준년월 제외): 1개\n",
      " - ['대표결제방법코드']\n",
      "[balance_train_df] 상수 feature 개수 (기준년월 제외): 8개\n",
      " - ['카드론잔액_최종경과월', '최종연체개월수_R15M', 'RV잔액이월횟수_R6M', 'RV잔액이월횟수_R3M', '연체잔액_일시불_해외_B0M', '연체잔액_RV일시불_해외_B0M', '연체잔액_할부_해외_B0M', '연체잔액_CA_해외_B0M']\n",
      "[channel_train_df] 상수 feature 개수 (기준년월 제외): 36개\n",
      " - ['인입횟수_금융_IB_R6M', '인입불만횟수_IB_R6M', '인입불만일수_IB_R6M', '인입불만월수_IB_R6M', '인입불만후경과월_IB_R6M', '인입불만횟수_IB_B0M', '인입불만일수_IB_B0M', 'IB문의건수_한도_B0M', 'IB문의건수_결제_B0M', 'IB문의건수_할부_B0M', 'IB문의건수_정보변경_B0M', 'IB문의건수_결제일변경_B0M', 'IB문의건수_명세서_B0M', 'IB문의건수_비밀번호_B0M', 'IB문의건수_SMS_B0M', 'IB문의건수_APP_B0M', 'IB문의건수_부대서비스_B0M', 'IB문의건수_포인트_B0M', 'IB문의건수_BL_B0M', 'IB문의건수_분실도난_B0M', 'IB문의건수_CA_B0M', 'IB상담건수_VOC_B0M', 'IB상담건수_VOC민원_B0M', 'IB상담건수_VOC불만_B0M', 'IB상담건수_금감원_B0M', 'IB문의건수_명세서_R6M', 'IB문의건수_APP_R6M', 'IB상담건수_VOC_R6M', 'IB상담건수_VOC민원_R6M', 'IB상담건수_VOC불만_R6M', 'IB상담건수_금감원_R6M', '불만제기건수_B0M', '불만제기건수_R12M', '당사PAY_방문횟수_B0M', '당사PAY_방문횟수_R6M', '당사PAY_방문월수_R6M']\n",
      "[marketing_train_df] 상수 feature 개수 (기준년월 제외): 26개\n",
      " - ['컨택건수_CA_TM_B0M', '컨택건수_신용발급_TM_B0M', '컨택건수_포인트소진_TM_B0M', '컨택건수_리볼빙_LMS_B0M', '컨택건수_CA_EM_B0M', '컨택건수_리볼빙_EM_B0M', '컨택건수_리볼빙_청구서_B0M', '컨택건수_카드론_인터넷_B0M', '컨택건수_CA_인터넷_B0M', '컨택건수_리볼빙_인터넷_B0M', '컨택건수_카드론_당사앱_B0M', '컨택건수_CA_당사앱_B0M', '컨택건수_리볼빙_당사앱_B0M', '컨택건수_이용유도_당사앱_B0M', '컨택건수_CA_EM_R6M', '컨택건수_리볼빙_EM_R6M', '컨택건수_리볼빙_청구서_R6M', '컨택건수_카드론_인터넷_R6M', '컨택건수_CA_인터넷_R6M', '컨택건수_리볼빙_인터넷_R6M', '컨택건수_카드론_당사앱_R6M', '컨택건수_CA_당사앱_R6M', '컨택건수_리볼빙_당사앱_R6M', '컨택건수_이용유도_당사앱_R6M', '컨택건수_FDS_B0M', '컨택건수_FDS_R6M']\n",
      "[performance_train_df] 상수 feature 개수 (기준년월 제외): 0개\n",
      " - 없음\n"
     ]
    }
   ],
   "source": [
    "# 데이터프레임 딕셔너리\n",
    "dfs = {\n",
    "    \"customer_train_df\": customer_train_df,\n",
    "    \"credit_train_df\": credit_train_df,\n",
    "    \"sales_train_df\": sales_train_df,\n",
    "    \"billing_train_df\": billing_train_df,\n",
    "    \"balance_train_df\": balance_train_df,\n",
    "    \"channel_train_df\": channel_train_df,\n",
    "    \"marketing_train_df\": marketing_train_df,\n",
    "    \"performance_train_df\": performance_train_df\n",
    "}\n",
    "\n",
    "# 결과 저장할 딕셔너리\n",
    "constant_features_dict = {}\n",
    "\n",
    "# 각 데이터프레임별로 상수 Feature 찾고 제거 (기준년월 제외)\n",
    "for name, df in dfs.items():\n",
    "    constant_features = [\n",
    "        col for col in df.columns \n",
    "        if df[col].nunique() <= 1 and col != '기준년월'  # 기준년월은 제외\n",
    "    ]\n",
    "    constant_features_dict[name] = constant_features\n",
    "    df.drop(columns=constant_features, inplace=True)\n",
    "    \n",
    "    print(f\"[{name}] 상수 feature 개수 (기준년월 제외): {len(constant_features)}개\")\n",
    "    if constant_features:\n",
    "        print(\" -\", constant_features)\n",
    "    else:\n",
    "        print(\" - 없음\")\n"
   ]
  },
  {
   "cell_type": "code",
   "execution_count": 30,
   "metadata": {},
   "outputs": [
    {
     "data": {
      "text/html": [
       "<div>\n",
       "<style scoped>\n",
       "    .dataframe tbody tr th:only-of-type {\n",
       "        vertical-align: middle;\n",
       "    }\n",
       "\n",
       "    .dataframe tbody tr th {\n",
       "        vertical-align: top;\n",
       "    }\n",
       "\n",
       "    .dataframe thead th {\n",
       "        text-align: right;\n",
       "    }\n",
       "</style>\n",
       "<table border=\"1\" class=\"dataframe\">\n",
       "  <thead>\n",
       "    <tr style=\"text-align: right;\">\n",
       "      <th></th>\n",
       "      <th>기준년월</th>\n",
       "      <th>ID</th>\n",
       "      <th>남녀구분코드</th>\n",
       "      <th>연령</th>\n",
       "      <th>Segment</th>\n",
       "      <th>회원여부_이용가능</th>\n",
       "      <th>회원여부_이용가능_CA</th>\n",
       "      <th>회원여부_이용가능_카드론</th>\n",
       "      <th>소지여부_신용</th>\n",
       "      <th>소지카드수_유효_신용</th>\n",
       "      <th>...</th>\n",
       "      <th>이용가능여부_해외겸용_신용_본인</th>\n",
       "      <th>이용여부_3M_해외겸용_신용_본인</th>\n",
       "      <th>연회비발생카드수_B0M</th>\n",
       "      <th>기본연회비_B0M</th>\n",
       "      <th>제휴연회비_B0M</th>\n",
       "      <th>청구금액_기본연회비_B0M</th>\n",
       "      <th>청구금액_제휴연회비_B0M</th>\n",
       "      <th>카드신청건수</th>\n",
       "      <th>Life_Stage</th>\n",
       "      <th>최종카드발급경과월</th>\n",
       "    </tr>\n",
       "  </thead>\n",
       "  <tbody>\n",
       "    <tr>\n",
       "      <th>0</th>\n",
       "      <td>201807</td>\n",
       "      <td>TRAIN_000000</td>\n",
       "      <td>2</td>\n",
       "      <td>40대</td>\n",
       "      <td>D</td>\n",
       "      <td>1</td>\n",
       "      <td>1</td>\n",
       "      <td>0</td>\n",
       "      <td>1</td>\n",
       "      <td>1</td>\n",
       "      <td>...</td>\n",
       "      <td>0</td>\n",
       "      <td>0</td>\n",
       "      <td>0개</td>\n",
       "      <td>0</td>\n",
       "      <td>0</td>\n",
       "      <td>0</td>\n",
       "      <td>0</td>\n",
       "      <td>0</td>\n",
       "      <td>자녀성장(2)</td>\n",
       "      <td>22</td>\n",
       "    </tr>\n",
       "    <tr>\n",
       "      <th>1</th>\n",
       "      <td>201807</td>\n",
       "      <td>TRAIN_000001</td>\n",
       "      <td>1</td>\n",
       "      <td>30대</td>\n",
       "      <td>E</td>\n",
       "      <td>1</td>\n",
       "      <td>1</td>\n",
       "      <td>1</td>\n",
       "      <td>1</td>\n",
       "      <td>1</td>\n",
       "      <td>...</td>\n",
       "      <td>0</td>\n",
       "      <td>0</td>\n",
       "      <td>0개</td>\n",
       "      <td>0</td>\n",
       "      <td>0</td>\n",
       "      <td>0</td>\n",
       "      <td>0</td>\n",
       "      <td>0</td>\n",
       "      <td>자녀성장(1)</td>\n",
       "      <td>18</td>\n",
       "    </tr>\n",
       "    <tr>\n",
       "      <th>2</th>\n",
       "      <td>201807</td>\n",
       "      <td>TRAIN_000002</td>\n",
       "      <td>1</td>\n",
       "      <td>30대</td>\n",
       "      <td>C</td>\n",
       "      <td>1</td>\n",
       "      <td>1</td>\n",
       "      <td>0</td>\n",
       "      <td>1</td>\n",
       "      <td>1</td>\n",
       "      <td>...</td>\n",
       "      <td>0</td>\n",
       "      <td>0</td>\n",
       "      <td>0개</td>\n",
       "      <td>0</td>\n",
       "      <td>0</td>\n",
       "      <td>0</td>\n",
       "      <td>0</td>\n",
       "      <td>0</td>\n",
       "      <td>자녀출산기</td>\n",
       "      <td>20</td>\n",
       "    </tr>\n",
       "    <tr>\n",
       "      <th>3</th>\n",
       "      <td>201807</td>\n",
       "      <td>TRAIN_000003</td>\n",
       "      <td>2</td>\n",
       "      <td>40대</td>\n",
       "      <td>D</td>\n",
       "      <td>1</td>\n",
       "      <td>1</td>\n",
       "      <td>0</td>\n",
       "      <td>1</td>\n",
       "      <td>2</td>\n",
       "      <td>...</td>\n",
       "      <td>1</td>\n",
       "      <td>1</td>\n",
       "      <td>0개</td>\n",
       "      <td>0</td>\n",
       "      <td>0</td>\n",
       "      <td>0</td>\n",
       "      <td>0</td>\n",
       "      <td>1</td>\n",
       "      <td>자녀성장(2)</td>\n",
       "      <td>17</td>\n",
       "    </tr>\n",
       "    <tr>\n",
       "      <th>4</th>\n",
       "      <td>201807</td>\n",
       "      <td>TRAIN_000004</td>\n",
       "      <td>2</td>\n",
       "      <td>40대</td>\n",
       "      <td>E</td>\n",
       "      <td>1</td>\n",
       "      <td>1</td>\n",
       "      <td>1</td>\n",
       "      <td>1</td>\n",
       "      <td>1</td>\n",
       "      <td>...</td>\n",
       "      <td>0</td>\n",
       "      <td>0</td>\n",
       "      <td>0개</td>\n",
       "      <td>0</td>\n",
       "      <td>0</td>\n",
       "      <td>0</td>\n",
       "      <td>0</td>\n",
       "      <td>1</td>\n",
       "      <td>자녀성장(1)</td>\n",
       "      <td>15</td>\n",
       "    </tr>\n",
       "  </tbody>\n",
       "</table>\n",
       "<p>5 rows × 69 columns</p>\n",
       "</div>"
      ],
      "text/plain": [
       "     기준년월            ID  남녀구분코드   연령 Segment  회원여부_이용가능  회원여부_이용가능_CA  \\\n",
       "0  201807  TRAIN_000000       2  40대       D          1             1   \n",
       "1  201807  TRAIN_000001       1  30대       E          1             1   \n",
       "2  201807  TRAIN_000002       1  30대       C          1             1   \n",
       "3  201807  TRAIN_000003       2  40대       D          1             1   \n",
       "4  201807  TRAIN_000004       2  40대       E          1             1   \n",
       "\n",
       "   회원여부_이용가능_카드론  소지여부_신용  소지카드수_유효_신용  ...  이용가능여부_해외겸용_신용_본인  \\\n",
       "0              0        1            1  ...                  0   \n",
       "1              1        1            1  ...                  0   \n",
       "2              0        1            1  ...                  0   \n",
       "3              0        1            2  ...                  1   \n",
       "4              1        1            1  ...                  0   \n",
       "\n",
       "   이용여부_3M_해외겸용_신용_본인  연회비발생카드수_B0M  기본연회비_B0M  제휴연회비_B0M  청구금액_기본연회비_B0M  \\\n",
       "0                   0            0개          0          0               0   \n",
       "1                   0            0개          0          0               0   \n",
       "2                   0            0개          0          0               0   \n",
       "3                   1            0개          0          0               0   \n",
       "4                   0            0개          0          0               0   \n",
       "\n",
       "   청구금액_제휴연회비_B0M  카드신청건수  Life_Stage  최종카드발급경과월  \n",
       "0               0       0     자녀성장(2)         22  \n",
       "1               0       0     자녀성장(1)         18  \n",
       "2               0       0       자녀출산기         20  \n",
       "3               0       1     자녀성장(2)         17  \n",
       "4               0       1     자녀성장(1)         15  \n",
       "\n",
       "[5 rows x 69 columns]"
      ]
     },
     "execution_count": 30,
     "metadata": {},
     "output_type": "execute_result"
    }
   ],
   "source": [
    "customer_train_df.head()"
   ]
  },
  {
   "cell_type": "code",
   "execution_count": null,
   "metadata": {},
   "outputs": [],
   "source": []
  },
  {
   "cell_type": "code",
   "execution_count": 31,
   "metadata": {},
   "outputs": [
    {
     "name": "stdout",
     "output_type": "stream",
     "text": [
      "customer_test_df is created with shape: (100000, 77)\n",
      "credit_test_df is created with shape: (100000, 42)\n",
      "sales_test_df is created with shape: (100000, 406)\n",
      "billing_test_df is created with shape: (100000, 46)\n",
      "balance_test_df is created with shape: (100000, 82)\n",
      "channel_test_df is created with shape: (100000, 105)\n",
      "marketing_test_df is created with shape: (100000, 64)\n",
      "performance_test_df is created with shape: (100000, 49)\n"
     ]
    },
    {
     "data": {
      "text/plain": [
       "0"
      ]
     },
     "execution_count": 31,
     "metadata": {},
     "output_type": "execute_result"
    }
   ],
   "source": [
    "#### Test ####\n",
    "\n",
    "# test 데이터에 대해 train과 동일한 방법 적용\n",
    "test_dfs = {}\n",
    "\n",
    "for prefix in info_categories:\n",
    "    df_list = [globals()[f\"{prefix}_test_{month}\"] for month in months]\n",
    "    test_dfs[f\"{prefix}_test_df\"] = pd.concat(df_list, axis=0)\n",
    "    gc.collect()\n",
    "    print(f\"{prefix}_test_df is created with shape: {test_dfs[f'{prefix}_test_df'].shape}\")\n",
    "\n",
    "\n",
    "customer_test_df = test_dfs[\"customer_test_df\"]\n",
    "credit_test_df   = test_dfs[\"credit_test_df\"]\n",
    "sales_test_df    = test_dfs[\"sales_test_df\"]\n",
    "billing_test_df  = test_dfs[\"billing_test_df\"]\n",
    "balance_test_df  = test_dfs[\"balance_test_df\"]\n",
    "channel_test_df  = test_dfs[\"channel_test_df\"]\n",
    "marketing_test_df= test_dfs[\"marketing_test_df\"]\n",
    "performance_test_df = test_dfs[\"performance_test_df\"]\n",
    "\n",
    "gc.collect()"
   ]
  },
  {
   "cell_type": "code",
   "execution_count": 33,
   "metadata": {},
   "outputs": [
    {
     "name": "stdout",
     "output_type": "stream",
     "text": [
      "[0]\tvalidation_0-mlogloss:1.08737\tvalidation_1-mlogloss:1.08917\n",
      "[1]\tvalidation_0-mlogloss:0.83465\tvalidation_1-mlogloss:0.83774\n",
      "[2]\tvalidation_0-mlogloss:0.67476\tvalidation_1-mlogloss:0.67903\n",
      "[3]\tvalidation_0-mlogloss:0.56614\tvalidation_1-mlogloss:0.57150\n",
      "[4]\tvalidation_0-mlogloss:0.48921\tvalidation_1-mlogloss:0.49568\n",
      "[5]\tvalidation_0-mlogloss:0.43314\tvalidation_1-mlogloss:0.44037\n",
      "[6]\tvalidation_0-mlogloss:0.39139\tvalidation_1-mlogloss:0.39952\n",
      "[7]\tvalidation_0-mlogloss:0.35939\tvalidation_1-mlogloss:0.36827\n",
      "[8]\tvalidation_0-mlogloss:0.33498\tvalidation_1-mlogloss:0.34463\n",
      "[9]\tvalidation_0-mlogloss:0.31569\tvalidation_1-mlogloss:0.32611\n",
      "[10]\tvalidation_0-mlogloss:0.30088\tvalidation_1-mlogloss:0.31196\n",
      "[11]\tvalidation_0-mlogloss:0.28823\tvalidation_1-mlogloss:0.30022\n",
      "[12]\tvalidation_0-mlogloss:0.27832\tvalidation_1-mlogloss:0.29110\n",
      "[13]\tvalidation_0-mlogloss:0.26839\tvalidation_1-mlogloss:0.28190\n",
      "[14]\tvalidation_0-mlogloss:0.26071\tvalidation_1-mlogloss:0.27499\n",
      "[15]\tvalidation_0-mlogloss:0.25453\tvalidation_1-mlogloss:0.26964\n",
      "[16]\tvalidation_0-mlogloss:0.24835\tvalidation_1-mlogloss:0.26410\n",
      "[17]\tvalidation_0-mlogloss:0.24334\tvalidation_1-mlogloss:0.25982\n",
      "[18]\tvalidation_0-mlogloss:0.23911\tvalidation_1-mlogloss:0.25639\n",
      "[19]\tvalidation_0-mlogloss:0.23524\tvalidation_1-mlogloss:0.25321\n",
      "[20]\tvalidation_0-mlogloss:0.23120\tvalidation_1-mlogloss:0.25001\n",
      "[21]\tvalidation_0-mlogloss:0.22731\tvalidation_1-mlogloss:0.24695\n",
      "[22]\tvalidation_0-mlogloss:0.22332\tvalidation_1-mlogloss:0.24355\n",
      "[23]\tvalidation_0-mlogloss:0.22058\tvalidation_1-mlogloss:0.24145\n",
      "[24]\tvalidation_0-mlogloss:0.21789\tvalidation_1-mlogloss:0.23959\n",
      "[25]\tvalidation_0-mlogloss:0.21535\tvalidation_1-mlogloss:0.23784\n",
      "[26]\tvalidation_0-mlogloss:0.21257\tvalidation_1-mlogloss:0.23584\n",
      "[27]\tvalidation_0-mlogloss:0.21014\tvalidation_1-mlogloss:0.23394\n",
      "[28]\tvalidation_0-mlogloss:0.20778\tvalidation_1-mlogloss:0.23219\n",
      "[29]\tvalidation_0-mlogloss:0.20510\tvalidation_1-mlogloss:0.23016\n",
      "[30]\tvalidation_0-mlogloss:0.20299\tvalidation_1-mlogloss:0.22863\n",
      "[31]\tvalidation_0-mlogloss:0.20131\tvalidation_1-mlogloss:0.22764\n",
      "[32]\tvalidation_0-mlogloss:0.19995\tvalidation_1-mlogloss:0.22682\n",
      "[33]\tvalidation_0-mlogloss:0.19807\tvalidation_1-mlogloss:0.22544\n",
      "[34]\tvalidation_0-mlogloss:0.19650\tvalidation_1-mlogloss:0.22448\n",
      "[35]\tvalidation_0-mlogloss:0.19491\tvalidation_1-mlogloss:0.22364\n",
      "[36]\tvalidation_0-mlogloss:0.19325\tvalidation_1-mlogloss:0.22262\n",
      "[37]\tvalidation_0-mlogloss:0.19169\tvalidation_1-mlogloss:0.22156\n",
      "[38]\tvalidation_0-mlogloss:0.19012\tvalidation_1-mlogloss:0.22058\n",
      "[39]\tvalidation_0-mlogloss:0.18873\tvalidation_1-mlogloss:0.21972\n",
      "[40]\tvalidation_0-mlogloss:0.18757\tvalidation_1-mlogloss:0.21910\n",
      "[41]\tvalidation_0-mlogloss:0.18622\tvalidation_1-mlogloss:0.21833\n",
      "[42]\tvalidation_0-mlogloss:0.18446\tvalidation_1-mlogloss:0.21722\n",
      "[43]\tvalidation_0-mlogloss:0.18308\tvalidation_1-mlogloss:0.21638\n",
      "[44]\tvalidation_0-mlogloss:0.18201\tvalidation_1-mlogloss:0.21585\n",
      "[45]\tvalidation_0-mlogloss:0.18055\tvalidation_1-mlogloss:0.21501\n",
      "[46]\tvalidation_0-mlogloss:0.17930\tvalidation_1-mlogloss:0.21445\n",
      "[47]\tvalidation_0-mlogloss:0.17828\tvalidation_1-mlogloss:0.21403\n",
      "[48]\tvalidation_0-mlogloss:0.17734\tvalidation_1-mlogloss:0.21356\n",
      "[49]\tvalidation_0-mlogloss:0.17618\tvalidation_1-mlogloss:0.21295\n",
      "[50]\tvalidation_0-mlogloss:0.17481\tvalidation_1-mlogloss:0.21198\n",
      "[51]\tvalidation_0-mlogloss:0.17381\tvalidation_1-mlogloss:0.21142\n",
      "[52]\tvalidation_0-mlogloss:0.17286\tvalidation_1-mlogloss:0.21090\n",
      "[53]\tvalidation_0-mlogloss:0.17138\tvalidation_1-mlogloss:0.20992\n",
      "[54]\tvalidation_0-mlogloss:0.17041\tvalidation_1-mlogloss:0.20937\n",
      "[55]\tvalidation_0-mlogloss:0.16917\tvalidation_1-mlogloss:0.20875\n",
      "[56]\tvalidation_0-mlogloss:0.16813\tvalidation_1-mlogloss:0.20831\n",
      "[57]\tvalidation_0-mlogloss:0.16706\tvalidation_1-mlogloss:0.20777\n",
      "[58]\tvalidation_0-mlogloss:0.16608\tvalidation_1-mlogloss:0.20718\n",
      "[59]\tvalidation_0-mlogloss:0.16495\tvalidation_1-mlogloss:0.20658\n",
      "[60]\tvalidation_0-mlogloss:0.16389\tvalidation_1-mlogloss:0.20601\n",
      "[61]\tvalidation_0-mlogloss:0.16316\tvalidation_1-mlogloss:0.20570\n",
      "[62]\tvalidation_0-mlogloss:0.16230\tvalidation_1-mlogloss:0.20534\n",
      "[63]\tvalidation_0-mlogloss:0.16146\tvalidation_1-mlogloss:0.20491\n",
      "[64]\tvalidation_0-mlogloss:0.16061\tvalidation_1-mlogloss:0.20460\n",
      "[65]\tvalidation_0-mlogloss:0.15998\tvalidation_1-mlogloss:0.20422\n",
      "[66]\tvalidation_0-mlogloss:0.15889\tvalidation_1-mlogloss:0.20363\n",
      "[67]\tvalidation_0-mlogloss:0.15804\tvalidation_1-mlogloss:0.20326\n",
      "[68]\tvalidation_0-mlogloss:0.15718\tvalidation_1-mlogloss:0.20292\n",
      "[69]\tvalidation_0-mlogloss:0.15624\tvalidation_1-mlogloss:0.20240\n",
      "[70]\tvalidation_0-mlogloss:0.15524\tvalidation_1-mlogloss:0.20174\n",
      "[71]\tvalidation_0-mlogloss:0.15432\tvalidation_1-mlogloss:0.20136\n",
      "[72]\tvalidation_0-mlogloss:0.15352\tvalidation_1-mlogloss:0.20093\n",
      "[73]\tvalidation_0-mlogloss:0.15262\tvalidation_1-mlogloss:0.20048\n",
      "[74]\tvalidation_0-mlogloss:0.15176\tvalidation_1-mlogloss:0.20006\n",
      "[75]\tvalidation_0-mlogloss:0.15094\tvalidation_1-mlogloss:0.19973\n",
      "[76]\tvalidation_0-mlogloss:0.14993\tvalidation_1-mlogloss:0.19919\n",
      "[77]\tvalidation_0-mlogloss:0.14925\tvalidation_1-mlogloss:0.19889\n",
      "[78]\tvalidation_0-mlogloss:0.14847\tvalidation_1-mlogloss:0.19856\n",
      "[79]\tvalidation_0-mlogloss:0.14777\tvalidation_1-mlogloss:0.19834\n",
      "[80]\tvalidation_0-mlogloss:0.14701\tvalidation_1-mlogloss:0.19804\n",
      "[81]\tvalidation_0-mlogloss:0.14618\tvalidation_1-mlogloss:0.19757\n",
      "[82]\tvalidation_0-mlogloss:0.14549\tvalidation_1-mlogloss:0.19734\n",
      "[83]\tvalidation_0-mlogloss:0.14472\tvalidation_1-mlogloss:0.19703\n",
      "[84]\tvalidation_0-mlogloss:0.14393\tvalidation_1-mlogloss:0.19680\n",
      "[85]\tvalidation_0-mlogloss:0.14301\tvalidation_1-mlogloss:0.19632\n",
      "[86]\tvalidation_0-mlogloss:0.14237\tvalidation_1-mlogloss:0.19611\n",
      "[87]\tvalidation_0-mlogloss:0.14163\tvalidation_1-mlogloss:0.19580\n",
      "[88]\tvalidation_0-mlogloss:0.14095\tvalidation_1-mlogloss:0.19551\n",
      "[89]\tvalidation_0-mlogloss:0.14033\tvalidation_1-mlogloss:0.19526\n",
      "[90]\tvalidation_0-mlogloss:0.13965\tvalidation_1-mlogloss:0.19484\n",
      "[91]\tvalidation_0-mlogloss:0.13890\tvalidation_1-mlogloss:0.19451\n",
      "[92]\tvalidation_0-mlogloss:0.13819\tvalidation_1-mlogloss:0.19418\n",
      "[93]\tvalidation_0-mlogloss:0.13756\tvalidation_1-mlogloss:0.19395\n",
      "[94]\tvalidation_0-mlogloss:0.13677\tvalidation_1-mlogloss:0.19355\n",
      "[95]\tvalidation_0-mlogloss:0.13585\tvalidation_1-mlogloss:0.19305\n",
      "[96]\tvalidation_0-mlogloss:0.13523\tvalidation_1-mlogloss:0.19293\n",
      "[97]\tvalidation_0-mlogloss:0.13469\tvalidation_1-mlogloss:0.19274\n",
      "[98]\tvalidation_0-mlogloss:0.13414\tvalidation_1-mlogloss:0.19246\n",
      "[99]\tvalidation_0-mlogloss:0.13353\tvalidation_1-mlogloss:0.19216\n"
     ]
    },
    {
     "data": {
      "image/png": "[encoded data removed]",
      "text/plain": [
       "<Figure size 1000x600 with 1 Axes>"
      ]
     },
     "metadata": {},
     "output_type": "display_data"
    }
   ],
   "source": [
    "from sklearn.preprocessing import LabelEncoder\n",
    "\n",
    "# (1) Feature/Target 분리\n",
    "target_col = 'Segment'  # 네 데이터 맞게 수정\n",
    "X = train_df.drop(columns=['기준년월', 'ID', target_col])\n",
    "y = train_df[target_col]\n",
    "\n",
    "# (2) X 데이터: object 타입 전부 Label Encoding\n",
    "for col in X.columns:\n",
    "    if X[col].dtype == 'object':\n",
    "        le = LabelEncoder()\n",
    "        X[col] = le.fit_transform(X[col].astype(str))  # object → str 변환 후 Label Encoding\n",
    "\n",
    "# (3) y 데이터: Label Encoding\n",
    "le_y = LabelEncoder()\n",
    "y = le_y.fit_transform(y)\n",
    "\n",
    "# (4) Train/Validation split\n",
    "from sklearn.model_selection import train_test_split\n",
    "\n",
    "X_train, X_val, y_train, y_val = train_test_split(\n",
    "    X, y,\n",
    "    test_size=0.2,\n",
    "    random_state=42,\n",
    "    stratify=y\n",
    ")\n",
    "\n",
    "# (5) XGBoost 학습\n",
    "import xgboost as xgb\n",
    "\n",
    "model = xgb.XGBClassifier(\n",
    "    tree_method='hist',\n",
    "    max_bin=256,\n",
    "    random_state=42,\n",
    "    eval_metric='mlogloss'\n",
    ")\n",
    "\n",
    "model.fit(\n",
    "    X_train, y_train,\n",
    "    eval_set=[(X_train, y_train), (X_val, y_val)],\n",
    "    verbose=True\n",
    ")\n",
    "\n",
    "# (6) 학습 결과 시각화\n",
    "evals_result = model.evals_result()\n",
    "\n",
    "train_loss = evals_result['validation_0']['mlogloss']\n",
    "val_loss = evals_result['validation_1']['mlogloss']\n",
    "\n",
    "import matplotlib.pyplot as plt\n",
    "\n",
    "plt.figure(figsize=(10,6))\n",
    "plt.plot(train_loss, label='Train Loss (mlogloss)')\n",
    "plt.plot(val_loss, label='Validation Loss (mlogloss)')\n",
    "plt.xlabel('Iteration')\n",
    "plt.ylabel('Log Loss')\n",
    "plt.title('Training vs Validation Loss')\n",
    "plt.legend()\n",
    "plt.grid(True)\n",
    "plt.show()\n"
   ]
  },
  {
   "cell_type": "code",
   "execution_count": 16,
   "metadata": {},
   "outputs": [
    {
     "name": "stdout",
     "output_type": "stream",
     "text": [
      "Step1 저장 완료: train_step1, shape: (800000, 118)\n",
      "Step2 저장 완료: train_Step2, shape: (800000, 522)\n",
      "Step3 저장 완료: train_Step3, shape: (800000, 566)\n",
      "Step4 저장 완료: train_Step4, shape: (800000, 646)\n",
      "Step5 저장 완료: train_Step5, shape: (800000, 749)\n",
      "Step6 저장 완료: train_Step6, shape: (800000, 811)\n",
      "최종 저장 완료: train_최종, shape: (800000, 858)\n"
     ]
    }
   ],
   "source": [
    "#### Train ####\n",
    "\n",
    "train_df = customer_train_df.merge(credit_train_df, on=['기준년월', 'ID'], how='left')\n",
    "\n",
    "\n",
    "print(\"Step1 저장 완료: train_step1, shape:\", train_df.shape)\n",
    "del customer_train_df, credit_train_df\n",
    "gc.collect()\n",
    "\n",
    "# 이후 merge할 데이터프레임 이름과 단계 정보를 리스트에 저장\n",
    "merge_list = [\n",
    "    (\"sales_train_df\",    \"Step2\"),\n",
    "    (\"billing_train_df\",  \"Step3\"),\n",
    "    (\"balance_train_df\",  \"Step4\"),\n",
    "    (\"channel_train_df\",  \"Step5\"),\n",
    "    (\"marketing_train_df\",\"Step6\"),\n",
    "    (\"performance_train_df\", \"최종\")\n",
    "]\n",
    "\n",
    "# 나머지 단계 merge\n",
    "for df_name, step in merge_list:\n",
    "    # globals()로 동적 변수 접근하여 merge 수행\n",
    "    train_df = train_df.merge(globals()[df_name], on=['기준년월', 'ID'], how='left')\n",
    "    print(f\"{step} 저장 완료: train_{step}, shape:\", train_df.shape)\n",
    "    # 사용한 변수는 메모리 해제를 위해 삭제\n",
    "    del globals()[df_name]\n",
    "    gc.collect()"
   ]
  },
  {
   "cell_type": "code",
   "execution_count": 17,
   "metadata": {},
   "outputs": [
    {
     "data": {
      "text/plain": [
       "Index(['기준년월', 'ID', '남녀구분코드', '연령', 'Segment', '회원여부_이용가능', '회원여부_이용가능_CA',\n",
       "       '회원여부_이용가능_카드론', '소지여부_신용', '소지카드수_유효_신용',\n",
       "       ...\n",
       "       '변동률_RV일시불평잔', '변동률_할부평잔', '변동률_CA평잔', '변동률_RVCA평잔', '변동률_카드론평잔',\n",
       "       '변동률_잔액_B1M', '변동률_잔액_일시불_B1M', '변동률_잔액_CA_B1M', '혜택수혜율_R3M',\n",
       "       '혜택수혜율_B0M'],\n",
       "      dtype='object', length=858)"
      ]
     },
     "execution_count": 17,
     "metadata": {},
     "output_type": "execute_result"
    }
   ],
   "source": [
    "train_df.columns"
   ]
  },
  {
   "cell_type": "code",
   "execution_count": null,
   "metadata": {},
   "outputs": [],
   "source": [
    "train_df.drop(columns=)"
   ]
  },
  {
   "cell_type": "code",
   "execution_count": 13,
   "metadata": {},
   "outputs": [
    {
     "name": "stdout",
     "output_type": "stream",
     "text": [
      "Step1 저장 완료: test_step1, shape: (100000, 117)\n",
      "Step2 저장 완료: test_Step2, shape: (100000, 521)\n",
      "Step3 저장 완료: test_Step3, shape: (100000, 565)\n",
      "Step4 저장 완료: test_Step4, shape: (100000, 645)\n",
      "Step5 저장 완료: test_Step5, shape: (100000, 748)\n",
      "Step6 저장 완료: test_Step6, shape: (100000, 810)\n",
      "최종 저장 완료: test_최종, shape: (100000, 857)\n"
     ]
    }
   ],
   "source": [
    "#### Test ####\n",
    "\n",
    "test_df = customer_test_df.merge(credit_test_df, on=['기준년월', 'ID'], how='left')\n",
    "print(\"Step1 저장 완료: test_step1, shape:\", test_df.shape)\n",
    "del customer_test_df, credit_test_df\n",
    "gc.collect()\n",
    "\n",
    "# 이후 merge할 데이터프레임 이름과 단계 정보를 리스트에 저장\n",
    "merge_list = [\n",
    "    (\"sales_test_df\",    \"Step2\"),\n",
    "    (\"billing_test_df\",  \"Step3\"),\n",
    "    (\"balance_test_df\",  \"Step4\"),\n",
    "    (\"channel_test_df\",  \"Step5\"),\n",
    "    (\"marketing_test_df\",\"Step6\"),\n",
    "    (\"performance_test_df\", \"최종\")\n",
    "]\n",
    "\n",
    "# 나머지 단계 merge\n",
    "for df_name, step in merge_list:\n",
    "    # globals()로 동적 변수 접근하여 merge 수행\n",
    "    test_df = test_df.merge(globals()[df_name], on=['기준년월', 'ID'], how='left')\n",
    "    print(f\"{step} 저장 완료: test_{step}, shape:\", test_df.shape)\n",
    "    # 사용한 변수는 메모리 해제를 위해 삭제\n",
    "    del globals()[df_name]\n",
    "    gc.collect()"
   ]
  },
  {
   "cell_type": "markdown",
   "metadata": {},
   "source": [
    "### Data Preprocessing(2) : Encoding"
   ]
  },
  {
   "cell_type": "code",
   "execution_count": 14,
   "metadata": {},
   "outputs": [],
   "source": [
    "feature_cols = [col for col in train_df.columns if col not in [\"ID\", \"Segment\"]]\n",
    "\n",
    "X = train_df[feature_cols].copy()\n",
    "y = train_df[\"Segment\"].copy()\n",
    "\n",
    "# 타깃 라벨 인코딩\n",
    "le_target = LabelEncoder()\n",
    "y_encoded = le_target.fit_transform(y)"
   ]
  },
  {
   "cell_type": "code",
   "execution_count": 15,
   "metadata": {},
   "outputs": [
    {
     "data": {
      "text/plain": [
       "0         D\n",
       "1         E\n",
       "2         C\n",
       "3         D\n",
       "4         E\n",
       "         ..\n",
       "399995    E\n",
       "399996    D\n",
       "399997    C\n",
       "399998    E\n",
       "399999    E\n",
       "Name: Segment, Length: 400000, dtype: object"
      ]
     },
     "execution_count": 15,
     "metadata": {},
     "output_type": "execute_result"
    }
   ],
   "source": [
    "y"
   ]
  },
  {
   "cell_type": "code",
   "execution_count": 16,
   "metadata": {},
   "outputs": [
    {
     "name": "stdout",
     "output_type": "stream",
     "text": [
      "856\n"
     ]
    }
   ],
   "source": [
    "print(len(feature_cols))"
   ]
  },
  {
   "cell_type": "code",
   "execution_count": 17,
   "metadata": {},
   "outputs": [],
   "source": [
    "categorical_features = X.select_dtypes(include=['object']).columns.tolist()\n",
    "\n",
    "X_test = test_df.copy()\n",
    "\n",
    "encoders = {}  # 각 컬럼별 encoder 저장\n",
    "\n",
    "for col in categorical_features:\n",
    "    le_train = LabelEncoder()\n",
    "    X[col] = le_train.fit_transform(X[col])\n",
    "    encoders[col] = le_train\n",
    "    unseen_labels_val = set(X_test[col]) - set(le_train.classes_)\n",
    "    if unseen_labels_val:\n",
    "        le_train.classes_ = np.append(le_train.classes_, list(unseen_labels_val))\n",
    "    X_test[col] = le_train.transform(X_test[col])"
   ]
  },
  {
   "cell_type": "code",
   "execution_count": 18,
   "metadata": {},
   "outputs": [
    {
     "data": {
      "text/plain": [
       "0"
      ]
     },
     "execution_count": 18,
     "metadata": {},
     "output_type": "execute_result"
    }
   ],
   "source": [
    "gc.collect()"
   ]
  },
  {
   "cell_type": "markdown",
   "metadata": {},
   "source": [
    "### Train"
   ]
  },
  {
   "cell_type": "code",
   "execution_count": 19,
   "metadata": {},
   "outputs": [],
   "source": [
    "# try:\n",
    "#     model = xgb.XGBClassifier(\n",
    "#         tree_method='gpu_hist',  # GPU 모드 설정\n",
    "#         gpu_id=0,\n",
    "#         random_state=42\n",
    "#     )\n",
    "#     print(\"GPU 사용 가능: gpu_hist 모드 적용\")\n",
    "#     model.fit(X, y_encoded)\n",
    "    \n",
    "# except Exception:\n",
    "#     model = xgb.XGBClassifier(\n",
    "#         random_state=42\n",
    "#     )\n",
    "#     print(\"GPU 사용 불가: CPU 모드 적용\")\n",
    "#     model.fit(X, y_encoded)"
   ]
  },
  {
   "cell_type": "code",
   "execution_count": 20,
   "metadata": {},
   "outputs": [
    {
     "name": "stderr",
     "output_type": "stream",
     "text": [
      "c:\\Users\\키움디지털아카데미\\Downloads\\open\\.venv\\Lib\\site-packages\\xgboost\\training.py:183: UserWarning: [16:50:04] WARNING: C:\\actions-runner\\_work\\xgboost\\xgboost\\src\\common\\error_msg.cc:45: `gpu_id` is deprecated since2.0.0, use `device` instead. E.g. device=cpu/cuda/cuda:0\n",
      "  bst.update(dtrain, iteration=i, fobj=obj)\n",
      "c:\\Users\\키움디지털아카데미\\Downloads\\open\\.venv\\Lib\\site-packages\\xgboost\\training.py:183: UserWarning: [16:50:04] WARNING: C:\\actions-runner\\_work\\xgboost\\xgboost\\src\\context.cc:49: No visible GPU is found, setting device to CPU.\n",
      "  bst.update(dtrain, iteration=i, fobj=obj)\n",
      "c:\\Users\\키움디지털아카데미\\Downloads\\open\\.venv\\Lib\\site-packages\\xgboost\\training.py:183: UserWarning: [16:50:04] WARNING: C:\\actions-runner\\_work\\xgboost\\xgboost\\src\\context.cc:203: XGBoost is not compiled with CUDA support.\n",
      "  bst.update(dtrain, iteration=i, fobj=obj)\n",
      "c:\\Users\\키움디지털아카데미\\Downloads\\open\\.venv\\Lib\\site-packages\\xgboost\\training.py:183: UserWarning: [16:50:04] WARNING: C:\\actions-runner\\_work\\xgboost\\xgboost\\src\\common\\error_msg.cc:27: The tree method `gpu_hist` is deprecated since 2.0.0. To use GPU training, set the `device` parameter to CUDA instead.\n",
      "\n",
      "    E.g. tree_method = \"hist\", device = \"cuda\"\n",
      "\n",
      "  bst.update(dtrain, iteration=i, fobj=obj)\n"
     ]
    },
    {
     "name": "stdout",
     "output_type": "stream",
     "text": [
      "GPU 사용 실패, CPU로 재설정합니다.\n",
      "[0]\tvalidation_0-mlogloss:1.08766\n",
      "[1]\tvalidation_0-mlogloss:0.83504\n",
      "[2]\tvalidation_0-mlogloss:0.67563\n",
      "[3]\tvalidation_0-mlogloss:0.56712\n",
      "[4]\tvalidation_0-mlogloss:0.49037\n",
      "[5]\tvalidation_0-mlogloss:0.43445\n",
      "[6]\tvalidation_0-mlogloss:0.39257\n",
      "[7]\tvalidation_0-mlogloss:0.36107\n",
      "[8]\tvalidation_0-mlogloss:0.33657\n",
      "[9]\tvalidation_0-mlogloss:0.31785\n",
      "[10]\tvalidation_0-mlogloss:0.30296\n",
      "[11]\tvalidation_0-mlogloss:0.29089\n",
      "[12]\tvalidation_0-mlogloss:0.28011\n",
      "[13]\tvalidation_0-mlogloss:0.27104\n",
      "[14]\tvalidation_0-mlogloss:0.26408\n",
      "[15]\tvalidation_0-mlogloss:0.25733\n",
      "[16]\tvalidation_0-mlogloss:0.25207\n",
      "[17]\tvalidation_0-mlogloss:0.24718\n",
      "[18]\tvalidation_0-mlogloss:0.24309\n",
      "[19]\tvalidation_0-mlogloss:0.23814\n",
      "[20]\tvalidation_0-mlogloss:0.23460\n",
      "[21]\tvalidation_0-mlogloss:0.23121\n",
      "[22]\tvalidation_0-mlogloss:0.22843\n",
      "[23]\tvalidation_0-mlogloss:0.22539\n",
      "[24]\tvalidation_0-mlogloss:0.22256\n",
      "[25]\tvalidation_0-mlogloss:0.22011\n",
      "[26]\tvalidation_0-mlogloss:0.21784\n",
      "[27]\tvalidation_0-mlogloss:0.21546\n",
      "[28]\tvalidation_0-mlogloss:0.21273\n",
      "[29]\tvalidation_0-mlogloss:0.21041\n",
      "[30]\tvalidation_0-mlogloss:0.20881\n",
      "[31]\tvalidation_0-mlogloss:0.20700\n",
      "[32]\tvalidation_0-mlogloss:0.20522\n",
      "[33]\tvalidation_0-mlogloss:0.20350\n",
      "[34]\tvalidation_0-mlogloss:0.20199\n",
      "[35]\tvalidation_0-mlogloss:0.20008\n",
      "[36]\tvalidation_0-mlogloss:0.19826\n",
      "[37]\tvalidation_0-mlogloss:0.19679\n",
      "[38]\tvalidation_0-mlogloss:0.19548\n",
      "[39]\tvalidation_0-mlogloss:0.19423\n",
      "[40]\tvalidation_0-mlogloss:0.19295\n",
      "[41]\tvalidation_0-mlogloss:0.19162\n",
      "[42]\tvalidation_0-mlogloss:0.19053\n",
      "[43]\tvalidation_0-mlogloss:0.18943\n",
      "[44]\tvalidation_0-mlogloss:0.18813\n",
      "[45]\tvalidation_0-mlogloss:0.18725\n",
      "[46]\tvalidation_0-mlogloss:0.18607\n",
      "[47]\tvalidation_0-mlogloss:0.18496\n",
      "[48]\tvalidation_0-mlogloss:0.18387\n",
      "[49]\tvalidation_0-mlogloss:0.18276\n",
      "[50]\tvalidation_0-mlogloss:0.18171\n",
      "[51]\tvalidation_0-mlogloss:0.18022\n",
      "[52]\tvalidation_0-mlogloss:0.17917\n",
      "[53]\tvalidation_0-mlogloss:0.17816\n",
      "[54]\tvalidation_0-mlogloss:0.17723\n",
      "[55]\tvalidation_0-mlogloss:0.17625\n",
      "[56]\tvalidation_0-mlogloss:0.17512\n",
      "[57]\tvalidation_0-mlogloss:0.17417\n",
      "[58]\tvalidation_0-mlogloss:0.17321\n",
      "[59]\tvalidation_0-mlogloss:0.17215\n",
      "[60]\tvalidation_0-mlogloss:0.17120\n",
      "[61]\tvalidation_0-mlogloss:0.17019\n",
      "[62]\tvalidation_0-mlogloss:0.16930\n",
      "[63]\tvalidation_0-mlogloss:0.16848\n",
      "[64]\tvalidation_0-mlogloss:0.16768\n",
      "[65]\tvalidation_0-mlogloss:0.16681\n",
      "[66]\tvalidation_0-mlogloss:0.16598\n",
      "[67]\tvalidation_0-mlogloss:0.16507\n",
      "[68]\tvalidation_0-mlogloss:0.16432\n",
      "[69]\tvalidation_0-mlogloss:0.16343\n",
      "[70]\tvalidation_0-mlogloss:0.16263\n",
      "[71]\tvalidation_0-mlogloss:0.16194\n",
      "[72]\tvalidation_0-mlogloss:0.16100\n",
      "[73]\tvalidation_0-mlogloss:0.16017\n",
      "[74]\tvalidation_0-mlogloss:0.15924\n",
      "[75]\tvalidation_0-mlogloss:0.15859\n",
      "[76]\tvalidation_0-mlogloss:0.15784\n",
      "[77]\tvalidation_0-mlogloss:0.15720\n",
      "[78]\tvalidation_0-mlogloss:0.15645\n",
      "[79]\tvalidation_0-mlogloss:0.15562\n",
      "[80]\tvalidation_0-mlogloss:0.15481\n",
      "[81]\tvalidation_0-mlogloss:0.15406\n",
      "[82]\tvalidation_0-mlogloss:0.15333\n",
      "[83]\tvalidation_0-mlogloss:0.15283\n",
      "[84]\tvalidation_0-mlogloss:0.15199\n",
      "[85]\tvalidation_0-mlogloss:0.15126\n",
      "[86]\tvalidation_0-mlogloss:0.15069\n",
      "[87]\tvalidation_0-mlogloss:0.14998\n",
      "[88]\tvalidation_0-mlogloss:0.14928\n",
      "[89]\tvalidation_0-mlogloss:0.14857\n",
      "[90]\tvalidation_0-mlogloss:0.14762\n",
      "[91]\tvalidation_0-mlogloss:0.14692\n",
      "[92]\tvalidation_0-mlogloss:0.14613\n",
      "[93]\tvalidation_0-mlogloss:0.14554\n",
      "[94]\tvalidation_0-mlogloss:0.14479\n",
      "[95]\tvalidation_0-mlogloss:0.14410\n",
      "[96]\tvalidation_0-mlogloss:0.14331\n",
      "[97]\tvalidation_0-mlogloss:0.14262\n",
      "[98]\tvalidation_0-mlogloss:0.14188\n",
      "[99]\tvalidation_0-mlogloss:0.14127\n"
     ]
    },
    {
     "data": {
      "image/png": "[encoded data removed]",
      "text/plain": [
       "<Figure size 800x500 with 1 Axes>"
      ]
     },
     "metadata": {},
     "output_type": "display_data"
    }
   ],
   "source": [
    "import xgboost as xgb\n",
    "import matplotlib.pyplot as plt\n",
    "\n",
    "# (1) 일단 GPU 설정 시도\n",
    "model = xgb.XGBClassifier(\n",
    "    tree_method='gpu_hist',  \n",
    "    gpu_id=0,\n",
    "    random_state=42,\n",
    "    eval_metric='mlogloss'\n",
    ")\n",
    "\n",
    "try:\n",
    "    model.fit(\n",
    "        X, y_encoded,\n",
    "        eval_set=[(X, y_encoded)],\n",
    "        verbose=True\n",
    "    )\n",
    "except xgb.core.XGBoostError:\n",
    "    print(\"GPU 사용 실패, CPU로 재설정합니다.\")\n",
    "    # (2) GPU 실패했으면 CPU 설정\n",
    "    model = xgb.XGBClassifier(\n",
    "        tree_method='hist',   # CPU 전용\n",
    "        random_state=42,\n",
    "        eval_metric='mlogloss'\n",
    "    )\n",
    "    model.fit(\n",
    "        X, y_encoded,\n",
    "        eval_set=[(X, y_encoded)],\n",
    "        verbose=True\n",
    "    )\n",
    "\n",
    "# 학습 완료 후 결과 가져오기\n",
    "evals_result = model.evals_result()\n",
    "\n",
    "# loss curve 그리기\n",
    "train_loss = evals_result['validation_0']['mlogloss']\n",
    "\n",
    "plt.figure(figsize=(8,5))\n",
    "plt.plot(train_loss, label='Train Loss (mlogloss)')\n",
    "plt.xlabel('Iterations')\n",
    "plt.ylabel('Log Loss')\n",
    "plt.title('Training Loss Curve')\n",
    "plt.legend()\n",
    "plt.grid(True)\n",
    "plt.show()\n"
   ]
  },
  {
   "cell_type": "code",
   "execution_count": null,
   "metadata": {},
   "outputs": [],
   "source": [
    "# model.fit(X, y_encoded)"
   ]
  },
  {
   "cell_type": "markdown",
   "metadata": {},
   "source": [
    "### Predict"
   ]
  },
  {
   "cell_type": "code",
   "execution_count": 20,
   "metadata": {},
   "outputs": [],
   "source": [
    "X_test.drop(columns=['ID'],inplace=True)"
   ]
  },
  {
   "cell_type": "code",
   "execution_count": 21,
   "metadata": {},
   "outputs": [],
   "source": [
    "# row-level 예측 수행\n",
    "y_test_pred = model.predict(X_test)\n",
    "# 예측 결과를 변환\n",
    "y_test_pred_labels = le_target.inverse_transform(y_test_pred)\n",
    "\n",
    "# row 단위 예측 결과를 test_data에 추가\n",
    "test_data = test_df.copy()  # 원본 유지\n",
    "test_data[\"pred_label\"] = y_test_pred_labels"
   ]
  },
  {
   "cell_type": "code",
   "execution_count": null,
   "metadata": {},
   "outputs": [],
   "source": [
    "test_data[\"pred_label\"]\n"
   ]
  },
  {
   "cell_type": "markdown",
   "metadata": {},
   "source": [
    "### Submission"
   ]
  },
  {
   "cell_type": "code",
   "execution_count": 22,
   "metadata": {},
   "outputs": [],
   "source": [
    "submission = test_data.groupby(\"ID\")[\"pred_label\"] \\\n",
    "    .agg(lambda x: x.value_counts().idxmax()) \\\n",
    "    .reset_index()\n",
    "\n",
    "submission.columns = [\"ID\", \"Segment\"]"
   ]
  },
  {
   "cell_type": "code",
   "execution_count": 23,
   "metadata": {},
   "outputs": [],
   "source": [
    "submission.to_csv('./base_submit.csv',index=False)"
   ]
  },
  {
   "cell_type": "code",
   "execution_count": null,
   "metadata": {},
   "outputs": [],
   "source": []
  }
 ],
 "metadata": {
  "kernelspec": {
   "display_name": ".venv",
   "language": "python",
   "name": "python3"
  },
  "language_info": {
   "codemirror_mode": {
    "name": "ipython",
    "version": 3
   },
   "file_extension": ".py",
   "mimetype": "text/x-python",
   "name": "python",
   "nbconvert_exporter": "python",
   "pygments_lexer": "ipython3",
   "version": "3.12.2"
  }
 },
 "nbformat": 4,
 "nbformat_minor": 2
}
