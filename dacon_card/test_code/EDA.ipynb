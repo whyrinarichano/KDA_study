{
 "cells": [
  {
   "cell_type": "markdown",
   "metadata": {},
   "source": [
    "### Import"
   ]
  },
  {
   "cell_type": "code",
   "execution_count": 1,
   "metadata": {},
   "outputs": [
    {
     "name": "stdout",
     "output_type": "stream",
     "text": [
      "8\n"
     ]
    }
   ],
   "source": [
    "print(4+4)"
   ]
  },
  {
   "cell_type": "code",
   "execution_count": 3,
   "metadata": {},
   "outputs": [
    {
     "name": "stdout",
     "output_type": "stream",
     "text": [
      "Collecting pandas\n",
      "  Using cached pandas-2.2.3-cp311-cp311-win_amd64.whl.metadata (19 kB)\n",
      "Collecting numpy\n",
      "  Using cached numpy-2.2.5-cp311-cp311-win_amd64.whl.metadata (60 kB)\n",
      "Collecting xgboost\n",
      "  Using cached xgboost-3.0.0-py3-none-win_amd64.whl.metadata (2.1 kB)\n",
      "Collecting scikit-learn\n",
      "  Downloading scikit_learn-1.6.1-cp311-cp311-win_amd64.whl.metadata (15 kB)\n",
      "Requirement already satisfied: python-dateutil>=2.8.2 in c:\\users\\키움디지털아카데미\\downloads\\open\\.venv\\lib\\site-packages (from pandas) (2.9.0.post0)\n",
      "Collecting pytz>=2020.1 (from pandas)\n",
      "  Downloading pytz-2025.2-py2.py3-none-any.whl.metadata (22 kB)\n",
      "Collecting tzdata>=2022.7 (from pandas)\n",
      "  Downloading tzdata-2025.2-py2.py3-none-any.whl.metadata (1.4 kB)\n",
      "Collecting scipy (from xgboost)\n",
      "  Downloading scipy-1.15.2-cp311-cp311-win_amd64.whl.metadata (60 kB)\n",
      "Collecting joblib>=1.2.0 (from scikit-learn)\n",
      "  Downloading joblib-1.4.2-py3-none-any.whl.metadata (5.4 kB)\n",
      "Collecting threadpoolctl>=3.1.0 (from scikit-learn)\n",
      "  Downloading threadpoolctl-3.6.0-py3-none-any.whl.metadata (13 kB)\n",
      "Requirement already satisfied: six>=1.5 in c:\\users\\키움디지털아카데미\\downloads\\open\\.venv\\lib\\site-packages (from python-dateutil>=2.8.2->pandas) (1.17.0)\n",
      "Downloading pandas-2.2.3-cp311-cp311-win_amd64.whl (11.6 MB)\n",
      "   ---------------------------------------- 0.0/11.6 MB ? eta -:--:--\n",
      "   --------------------- ------------------ 6.3/11.6 MB 32.2 MB/s eta 0:00:01\n",
      "   ---------------------------------------  11.5/11.6 MB 28.9 MB/s eta 0:00:01\n",
      "   ---------------------------------------- 11.6/11.6 MB 28.0 MB/s eta 0:00:00\n",
      "Downloading numpy-2.2.5-cp311-cp311-win_amd64.whl (12.9 MB)\n",
      "   ---------------------------------------- 0.0/12.9 MB ? eta -:--:--\n",
      "   --------------- ------------------------ 5.0/12.9 MB 23.2 MB/s eta 0:00:01\n",
      "   ------------------------------------ --- 11.8/12.9 MB 27.3 MB/s eta 0:00:01\n",
      "   ---------------------------------------- 12.9/12.9 MB 26.2 MB/s eta 0:00:00\n",
      "Downloading xgboost-3.0.0-py3-none-win_amd64.whl (150.0 MB)\n",
      "   ---------------------------------------- 0.0/150.0 MB ? eta -:--:--\n",
      "   - -------------------------------------- 5.0/150.0 MB 25.2 MB/s eta 0:00:06\n",
      "   --- ------------------------------------ 12.1/150.0 MB 28.0 MB/s eta 0:00:05\n",
      "   ---- ----------------------------------- 18.6/150.0 MB 30.1 MB/s eta 0:00:05\n",
      "   ------ --------------------------------- 25.2/150.0 MB 30.1 MB/s eta 0:00:05\n",
      "   -------- ------------------------------- 32.5/150.0 MB 30.8 MB/s eta 0:00:04\n",
      "   ---------- ----------------------------- 39.6/150.0 MB 31.5 MB/s eta 0:00:04\n",
      "   ------------ --------------------------- 46.7/150.0 MB 32.3 MB/s eta 0:00:04\n",
      "   -------------- ------------------------- 56.1/150.0 MB 33.4 MB/s eta 0:00:03\n",
      "   ---------------- ----------------------- 61.3/150.0 MB 32.6 MB/s eta 0:00:03\n",
      "   ----------------- ---------------------- 66.3/150.0 MB 31.8 MB/s eta 0:00:03\n",
      "   ------------------- -------------------- 72.4/150.0 MB 31.4 MB/s eta 0:00:03\n",
      "   -------------------- ------------------- 77.1/150.0 MB 30.7 MB/s eta 0:00:03\n",
      "   ---------------------- ----------------- 83.1/150.0 MB 30.5 MB/s eta 0:00:03\n",
      "   ----------------------- ---------------- 89.9/150.0 MB 30.5 MB/s eta 0:00:02\n",
      "   ------------------------- -------------- 94.1/150.0 MB 30.0 MB/s eta 0:00:02\n",
      "   -------------------------- ------------- 99.4/150.0 MB 29.6 MB/s eta 0:00:02\n",
      "   --------------------------- ----------- 105.9/150.0 MB 29.8 MB/s eta 0:00:02\n",
      "   ----------------------------- --------- 112.5/150.0 MB 29.8 MB/s eta 0:00:02\n",
      "   ------------------------------ -------- 117.7/150.0 MB 29.6 MB/s eta 0:00:02\n",
      "   ------------------------------- ------- 122.7/150.0 MB 29.3 MB/s eta 0:00:01\n",
      "   --------------------------------- ----- 129.8/150.0 MB 29.5 MB/s eta 0:00:01\n",
      "   ----------------------------------- --- 137.1/150.0 MB 29.8 MB/s eta 0:00:01\n",
      "   ------------------------------------- - 144.2/150.0 MB 30.0 MB/s eta 0:00:01\n",
      "   --------------------------------------  149.9/150.0 MB 30.0 MB/s eta 0:00:01\n",
      "   --------------------------------------- 150.0/150.0 MB 28.9 MB/s eta 0:00:00\n",
      "Downloading scikit_learn-1.6.1-cp311-cp311-win_amd64.whl (11.1 MB)\n",
      "   ---------------------------------------- 0.0/11.1 MB ? eta -:--:--\n",
      "   ------------------------ --------------- 6.8/11.1 MB 29.9 MB/s eta 0:00:01\n",
      "   ---------------------------------------- 11.1/11.1 MB 33.2 MB/s eta 0:00:00\n",
      "Downloading joblib-1.4.2-py3-none-any.whl (301 kB)\n",
      "Downloading pytz-2025.2-py2.py3-none-any.whl (509 kB)\n",
      "Downloading scipy-1.15.2-cp311-cp311-win_amd64.whl (41.2 MB)\n",
      "   ---------------------------------------- 0.0/41.2 MB ? eta -:--:--\n",
      "   ----- ---------------------------------- 5.5/41.2 MB 25.8 MB/s eta 0:00:02\n",
      "   ---------- ----------------------------- 11.0/41.2 MB 27.5 MB/s eta 0:00:02\n",
      "   --------------- ------------------------ 15.7/41.2 MB 24.7 MB/s eta 0:00:02\n",
      "   -------------------- ------------------- 21.2/41.2 MB 25.8 MB/s eta 0:00:01\n",
      "   -------------------------- ------------- 27.0/41.2 MB 25.5 MB/s eta 0:00:01\n",
      "   ------------------------------- -------- 32.2/41.2 MB 25.9 MB/s eta 0:00:01\n",
      "   ----------------------------------- ---- 37.0/41.2 MB 25.5 MB/s eta 0:00:01\n",
      "   ---------------------------------------- 41.2/41.2 MB 24.7 MB/s eta 0:00:00\n",
      "Downloading threadpoolctl-3.6.0-py3-none-any.whl (18 kB)\n",
      "Downloading tzdata-2025.2-py2.py3-none-any.whl (347 kB)\n",
      "Installing collected packages: pytz, tzdata, threadpoolctl, numpy, joblib, scipy, pandas, xgboost, scikit-learn\n",
      "\n",
      "   ---------------------------------------- 0/9 [pytz]\n",
      "   ---- ----------------------------------- 1/9 [tzdata]\n",
      "   ------------- -------------------------- 3/9 [numpy]\n",
      "   ------------- -------------------------- 3/9 [numpy]\n",
      "   ------------- -------------------------- 3/9 [numpy]\n",
      "   ------------- -------------------------- 3/9 [numpy]\n",
      "   ------------- -------------------------- 3/9 [numpy]\n",
      "   ------------- -------------------------- 3/9 [numpy]\n",
      "   ------------- -------------------------- 3/9 [numpy]\n",
      "   ------------- -------------------------- 3/9 [numpy]\n",
      "   ------------- -------------------------- 3/9 [numpy]\n",
      "   ------------- -------------------------- 3/9 [numpy]\n",
      "   ------------- -------------------------- 3/9 [numpy]\n",
      "   ------------- -------------------------- 3/9 [numpy]\n",
      "   ----------------- ---------------------- 4/9 [joblib]\n",
      "   ---------------------- ----------------- 5/9 [scipy]\n",
      "   ---------------------- ----------------- 5/9 [scipy]\n",
      "   ---------------------- ----------------- 5/9 [scipy]\n",
      "   ---------------------- ----------------- 5/9 [scipy]\n",
      "   ---------------------- ----------------- 5/9 [scipy]\n",
      "   ---------------------- ----------------- 5/9 [scipy]\n",
      "   ---------------------- ----------------- 5/9 [scipy]\n",
      "   ---------------------- ----------------- 5/9 [scipy]\n",
      "   ---------------------- ----------------- 5/9 [scipy]\n",
      "   ---------------------- ----------------- 5/9 [scipy]\n",
      "   ---------------------- ----------------- 5/9 [scipy]\n",
      "   ---------------------- ----------------- 5/9 [scipy]\n",
      "   ---------------------- ----------------- 5/9 [scipy]\n",
      "   ---------------------- ----------------- 5/9 [scipy]\n",
      "   ---------------------- ----------------- 5/9 [scipy]\n",
      "   ---------------------- ----------------- 5/9 [scipy]\n",
      "   ---------------------- ----------------- 5/9 [scipy]\n",
      "   ---------------------- ----------------- 5/9 [scipy]\n",
      "   ---------------------- ----------------- 5/9 [scipy]\n",
      "   ---------------------- ----------------- 5/9 [scipy]\n",
      "   ---------------------- ----------------- 5/9 [scipy]\n",
      "   ---------------------- ----------------- 5/9 [scipy]\n",
      "   ---------------------- ----------------- 5/9 [scipy]\n",
      "   -------------------------- ------------- 6/9 [pandas]\n",
      "   -------------------------- ------------- 6/9 [pandas]\n",
      "   -------------------------- ------------- 6/9 [pandas]\n",
      "   -------------------------- ------------- 6/9 [pandas]\n",
      "   -------------------------- ------------- 6/9 [pandas]\n",
      "   -------------------------- ------------- 6/9 [pandas]\n",
      "   -------------------------- ------------- 6/9 [pandas]\n",
      "   -------------------------- ------------- 6/9 [pandas]\n",
      "   -------------------------- ------------- 6/9 [pandas]\n",
      "   -------------------------- ------------- 6/9 [pandas]\n",
      "   -------------------------- ------------- 6/9 [pandas]\n",
      "   -------------------------- ------------- 6/9 [pandas]\n",
      "   -------------------------- ------------- 6/9 [pandas]\n",
      "   -------------------------- ------------- 6/9 [pandas]\n",
      "   -------------------------- ------------- 6/9 [pandas]\n",
      "   -------------------------- ------------- 6/9 [pandas]\n",
      "   -------------------------- ------------- 6/9 [pandas]\n",
      "   -------------------------- ------------- 6/9 [pandas]\n",
      "   -------------------------- ------------- 6/9 [pandas]\n",
      "   -------------------------- ------------- 6/9 [pandas]\n",
      "   -------------------------- ------------- 6/9 [pandas]\n",
      "   -------------------------- ------------- 6/9 [pandas]\n",
      "   -------------------------- ------------- 6/9 [pandas]\n",
      "   -------------------------- ------------- 6/9 [pandas]\n",
      "   -------------------------- ------------- 6/9 [pandas]\n",
      "   -------------------------- ------------- 6/9 [pandas]\n",
      "   -------------------------- ------------- 6/9 [pandas]\n",
      "   ------------------------------- -------- 7/9 [xgboost]\n",
      "   ------------------------------- -------- 7/9 [xgboost]\n",
      "   ------------------------------- -------- 7/9 [xgboost]\n",
      "   ------------------------------- -------- 7/9 [xgboost]\n",
      "   ------------------------------- -------- 7/9 [xgboost]\n",
      "   ------------------------------- -------- 7/9 [xgboost]\n",
      "   ------------------------------- -------- 7/9 [xgboost]\n",
      "   ------------------------------- -------- 7/9 [xgboost]\n",
      "   ------------------------------- -------- 7/9 [xgboost]\n",
      "   ----------------------------------- ---- 8/9 [scikit-learn]\n",
      "   ----------------------------------- ---- 8/9 [scikit-learn]\n",
      "   ----------------------------------- ---- 8/9 [scikit-learn]\n",
      "   ----------------------------------- ---- 8/9 [scikit-learn]\n",
      "   ----------------------------------- ---- 8/9 [scikit-learn]\n",
      "   ----------------------------------- ---- 8/9 [scikit-learn]\n",
      "   ----------------------------------- ---- 8/9 [scikit-learn]\n",
      "   ----------------------------------- ---- 8/9 [scikit-learn]\n",
      "   ----------------------------------- ---- 8/9 [scikit-learn]\n",
      "   ----------------------------------- ---- 8/9 [scikit-learn]\n",
      "   ----------------------------------- ---- 8/9 [scikit-learn]\n",
      "   ----------------------------------- ---- 8/9 [scikit-learn]\n",
      "   ---------------------------------------- 9/9 [scikit-learn]\n",
      "\n",
      "Successfully installed joblib-1.4.2 numpy-2.2.5 pandas-2.2.3 pytz-2025.2 scikit-learn-1.6.1 scipy-1.15.2 threadpoolctl-3.6.0 tzdata-2025.2 xgboost-3.0.0\n"
     ]
    }
   ],
   "source": [
    "!pip install pandas numpy xgboost scikit-learn"
   ]
  },
  {
   "cell_type": "code",
   "execution_count": 4,
   "metadata": {},
   "outputs": [],
   "source": [
    "import pandas as pd\n",
    "import numpy as np\n",
    "import gc\n",
    "\n",
    "import xgboost as xgb\n",
    "from sklearn.preprocessing import LabelEncoder"
   ]
  },
  {
   "cell_type": "markdown",
   "metadata": {},
   "source": [
    "### Data Load"
   ]
  },
  {
   "cell_type": "code",
   "execution_count": 8,
   "metadata": {},
   "outputs": [
    {
     "name": "stdout",
     "output_type": "stream",
     "text": [
      "Collecting pyarrow\n",
      "  Downloading pyarrow-20.0.0-cp311-cp311-win_amd64.whl.metadata (3.4 kB)\n",
      "Downloading pyarrow-20.0.0-cp311-cp311-win_amd64.whl (25.8 MB)\n",
      "   ---------------------------------------- 0.0/25.8 MB ? eta -:--:--\n",
      "   -------- ------------------------------- 5.2/25.8 MB 29.0 MB/s eta 0:00:01\n",
      "   --------------------- ------------------ 13.9/25.8 MB 34.9 MB/s eta 0:00:01\n",
      "   --------------------------------- ------ 21.8/25.8 MB 35.2 MB/s eta 0:00:01\n",
      "   ---------------------------------------- 25.8/25.8 MB 34.7 MB/s eta 0:00:00\n",
      "Installing collected packages: pyarrow\n",
      "Successfully installed pyarrow-20.0.0\n"
     ]
    }
   ],
   "source": [
    "!pip install pyarrow"
   ]
  },
  {
   "cell_type": "code",
   "execution_count": null,
   "metadata": {},
   "outputs": [],
   "source": [
    "# 데이터 분할(폴더) 구분\n",
    "data_splits = [\"train\", \"test\"]\n",
    "\n",
    "# 각 데이터 유형별 폴더명, 파일 접미사, 변수 접두어 설정\n",
    "data_categories = {\n",
    "    \"회원정보\": {\"folder\": \"1.회원정보\", \"suffix\": \"회원정보\", \"var_prefix\": \"customer\"},\n",
    "    \"신용정보\": {\"folder\": \"2.신용정보\", \"suffix\": \"신용정보\", \"var_prefix\": \"credit\"},\n",
    "    \"승인매출정보\": {\"folder\": \"3.승인매출정보\", \"suffix\": \"승인매출정보\", \"var_prefix\": \"sales\"},\n",
    "    \"청구정보\": {\"folder\": \"4.청구입금정보\", \"suffix\": \"청구정보\", \"var_prefix\": \"billing\"},\n",
    "    \"잔액정보\": {\"folder\": \"5.잔액정보\", \"suffix\": \"잔액정보\", \"var_prefix\": \"balance\"},\n",
    "    \"채널정보\": {\"folder\": \"6.채널정보\", \"suffix\": \"채널정보\", \"var_prefix\": \"channel\"},\n",
    "    \"마케팅정보\": {\"folder\": \"7.마케팅정보\", \"suffix\": \"마케팅정보\", \"var_prefix\": \"marketing\"},\n",
    "    \"성과정보\": {\"folder\": \"8.성과정보\", \"suffix\": \"성과정보\", \"var_prefix\": \"performance\"}\n",
    "}\n",
    "\n",
    "# 2018년 7월부터 12월까지의 월 리스트\n",
    "months = ['07', '08', '09', '10', '11', '12']\n",
    "\n",
    "path = 'C:/Users/키움디지털아카데미/Downloads/open'\n",
    "for split in data_splits:\n",
    "    for category, info in data_categories.items():\n",
    "        folder = info[\"folder\"]\n",
    "        suffix = info[\"suffix\"]\n",
    "        var_prefix = info[\"var_prefix\"]\n",
    "        \n",
    "        for month in months:\n",
    "            # 파일명 형식: 2018{month}_{split}_{suffix}.parquet\n",
    "            file_path = f\"{path}/{split}/{folder}/2018{month}_{split}_{suffix}.parquet\"\n",
    "            # 변수명 형식: {var_prefix}_{split}_{month}\n",
    "            variable_name = f\"{var_prefix}_{split}_{month}\"\n",
    "            globals()[variable_name] = pd.read_parquet(file_path)\n",
    "            print(f\"{variable_name} is loaded from {file_path}\")\n",
    "\n",
    "gc.collect()"
   ]
  },
  {
   "cell_type": "markdown",
   "metadata": {},
   "source": [
    "### Data Preprocessing(1) : Concat & Merge"
   ]
  },
  {
   "cell_type": "code",
   "execution_count": null,
   "metadata": {},
   "outputs": [],
   "source": [
    "# 데이터 유형별 설정 \n",
    "info_categories = [\"customer\", \"credit\", \"sales\", \"billing\", \"balance\", \"channel\", \"marketing\", \"performance\"]\n",
    "\n",
    "# 월 설정\n",
    "months = ['07', '08', '09', '10', '11', '12']"
   ]
  },
  {
   "cell_type": "code",
   "execution_count": null,
   "metadata": {},
   "outputs": [],
   "source": [
    "#### Train ####\n",
    "\n",
    "# 각 유형별로 월별 데이터를 합쳐서 새로운 변수에 저장\n",
    "train_dfs = {}\n",
    "\n",
    "for prefix in info_categories:\n",
    "    # globals()에서 동적 변수명으로 데이터프레임들을 가져와 리스트에 저장\n",
    "    df_list = [globals()[f\"{prefix}_train_{month}\"] for month in months]\n",
    "    train_dfs[f\"{prefix}_train_df\"] = pd.concat(df_list, axis=0)\n",
    "    gc.collect()\n",
    "    print(f\"{prefix}_train_df is created with shape: {train_dfs[f'{prefix}_train_df'].shape}\")\n",
    "\n",
    "\n",
    "customer_train_df = train_dfs[\"customer_train_df\"]\n",
    "credit_train_df   = train_dfs[\"credit_train_df\"]\n",
    "sales_train_df    = train_dfs[\"sales_train_df\"]\n",
    "billing_train_df  = train_dfs[\"billing_train_df\"]\n",
    "balance_train_df  = train_dfs[\"balance_train_df\"]\n",
    "channel_train_df  = train_dfs[\"channel_train_df\"]\n",
    "marketing_train_df= train_dfs[\"marketing_train_df\"]\n",
    "performance_train_df = train_dfs[\"performance_train_df\"]\n",
    "\n",
    "gc.collect()"
   ]
  },
  {
   "cell_type": "code",
   "execution_count": null,
   "metadata": {},
   "outputs": [],
   "source": [
    "#### Test ####\n",
    "\n",
    "# test 데이터에 대해 train과 동일한 방법 적용\n",
    "test_dfs = {}\n",
    "\n",
    "for prefix in info_categories:\n",
    "    df_list = [globals()[f\"{prefix}_test_{month}\"] for month in months]\n",
    "    test_dfs[f\"{prefix}_test_df\"] = pd.concat(df_list, axis=0)\n",
    "    gc.collect()\n",
    "    print(f\"{prefix}_test_df is created with shape: {test_dfs[f'{prefix}_test_df'].shape}\")\n",
    "\n",
    "\n",
    "customer_test_df = test_dfs[\"customer_test_df\"]\n",
    "credit_test_df   = test_dfs[\"credit_test_df\"]\n",
    "sales_test_df    = test_dfs[\"sales_test_df\"]\n",
    "billing_test_df  = test_dfs[\"billing_test_df\"]\n",
    "balance_test_df  = test_dfs[\"balance_test_df\"]\n",
    "channel_test_df  = test_dfs[\"channel_test_df\"]\n",
    "marketing_test_df= test_dfs[\"marketing_test_df\"]\n",
    "performance_test_df = test_dfs[\"performance_test_df\"]\n",
    "\n",
    "gc.collect()"
   ]
  },
  {
   "cell_type": "code",
   "execution_count": null,
   "metadata": {},
   "outputs": [],
   "source": [
    "#### Train ####\n",
    "\n",
    "train_df = customer_train_df.merge(credit_train_df, on=['기준년월', 'ID'], how='left')\n",
    "print(\"Step1 저장 완료: train_step1, shape:\", train_df.shape)\n",
    "del customer_train_df, credit_train_df\n",
    "gc.collect()\n",
    "\n",
    "# 이후 merge할 데이터프레임 이름과 단계 정보를 리스트에 저장\n",
    "merge_list = [\n",
    "    (\"sales_train_df\",    \"Step2\"),\n",
    "    (\"billing_train_df\",  \"Step3\"),\n",
    "    (\"balance_train_df\",  \"Step4\"),\n",
    "    (\"channel_train_df\",  \"Step5\"),\n",
    "    (\"marketing_train_df\",\"Step6\"),\n",
    "    (\"performance_train_df\", \"최종\")\n",
    "]\n",
    "\n",
    "# 나머지 단계 merge\n",
    "for df_name, step in merge_list:\n",
    "    # globals()로 동적 변수 접근하여 merge 수행\n",
    "    train_df = train_df.merge(globals()[df_name], on=['기준년월', 'ID'], how='left')\n",
    "    print(f\"{step} 저장 완료: train_{step}, shape:\", train_df.shape)\n",
    "    # 사용한 변수는 메모리 해제를 위해 삭제\n",
    "    del globals()[df_name]\n",
    "    gc.collect()"
   ]
  },
  {
   "cell_type": "code",
   "execution_count": null,
   "metadata": {},
   "outputs": [],
   "source": [
    "#### Test ####\n",
    "\n",
    "test_df = customer_test_df.merge(credit_test_df, on=['기준년월', 'ID'], how='left')\n",
    "print(\"Step1 저장 완료: test_step1, shape:\", test_df.shape)\n",
    "del customer_test_df, credit_test_df\n",
    "gc.collect()\n",
    "\n",
    "# 이후 merge할 데이터프레임 이름과 단계 정보를 리스트에 저장\n",
    "merge_list = [\n",
    "    (\"sales_test_df\",    \"Step2\"),\n",
    "    (\"billing_test_df\",  \"Step3\"),\n",
    "    (\"balance_test_df\",  \"Step4\"),\n",
    "    (\"channel_test_df\",  \"Step5\"),\n",
    "    (\"marketing_test_df\",\"Step6\"),\n",
    "    (\"performance_test_df\", \"최종\")\n",
    "]\n",
    "\n",
    "# 나머지 단계 merge\n",
    "for df_name, step in merge_list:\n",
    "    # globals()로 동적 변수 접근하여 merge 수행\n",
    "    test_df = test_df.merge(globals()[df_name], on=['기준년월', 'ID'], how='left')\n",
    "    print(f\"{step} 저장 완료: test_{step}, shape:\", test_df.shape)\n",
    "    # 사용한 변수는 메모리 해제를 위해 삭제\n",
    "    del globals()[df_name]\n",
    "    gc.collect()"
   ]
  },
  {
   "cell_type": "markdown",
   "metadata": {},
   "source": [
    "### Data Preprocessing(2) : Encoding"
   ]
  },
  {
   "cell_type": "code",
   "execution_count": null,
   "metadata": {},
   "outputs": [],
   "source": [
    "feature_cols = [col for col in train_df.columns if col not in [\"ID\", \"Segment\"]]\n",
    "\n",
    "X = train_df[feature_cols].copy()\n",
    "y = train_df[\"Segment\"].copy()\n",
    "\n",
    "# 타깃 라벨 인코딩\n",
    "le_target = LabelEncoder()\n",
    "y_encoded = le_target.fit_transform(y)"
   ]
  },
  {
   "cell_type": "code",
   "execution_count": null,
   "metadata": {},
   "outputs": [],
   "source": [
    "categorical_features = X.select_dtypes(include=['object']).columns.tolist()\n",
    "\n",
    "X_test = test_df.copy()\n",
    "\n",
    "encoders = {}  # 각 컬럼별 encoder 저장\n",
    "\n",
    "for col in categorical_features:\n",
    "    le_train = LabelEncoder()\n",
    "    X[col] = le_train.fit_transform(X[col])\n",
    "    encoders[col] = le_train\n",
    "    unseen_labels_val = set(X_test[col]) - set(le_train.classes_)\n",
    "    if unseen_labels_val:\n",
    "        le_train.classes_ = np.append(le_train.classes_, list(unseen_labels_val))\n",
    "    X_test[col] = le_train.transform(X_test[col])"
   ]
  },
  {
   "cell_type": "code",
   "execution_count": null,
   "metadata": {},
   "outputs": [],
   "source": [
    "gc.collect()"
   ]
  },
  {
   "cell_type": "markdown",
   "metadata": {},
   "source": [
    "### Train"
   ]
  },
  {
   "cell_type": "code",
   "execution_count": null,
   "metadata": {},
   "outputs": [],
   "source": [
    "try:\n",
    "    model = xgb.XGBClassifier(\n",
    "        tree_method='gpu_hist',  # GPU 모드 설정\n",
    "        gpu_id=0,\n",
    "        random_state=42\n",
    "    )\n",
    "    print(\"GPU 사용 가능: gpu_hist 모드 적용\")\n",
    "    model.fit(X, y_encoded)\n",
    "    \n",
    "except Exception:\n",
    "    model = xgb.XGBClassifier(\n",
    "        random_state=42\n",
    "    )\n",
    "    print(\"GPU 사용 불가: CPU 모드 적용\")\n",
    "    model.fit(X, y_encoded)"
   ]
  },
  {
   "cell_type": "code",
   "execution_count": null,
   "metadata": {},
   "outputs": [],
   "source": [
    "model.fit(X, y_encoded)"
   ]
  },
  {
   "cell_type": "markdown",
   "metadata": {},
   "source": [
    "### Predict"
   ]
  },
  {
   "cell_type": "code",
   "execution_count": null,
   "metadata": {},
   "outputs": [],
   "source": [
    "X_test.drop(columns=['ID'],inplace=True)"
   ]
  },
  {
   "cell_type": "code",
   "execution_count": null,
   "metadata": {},
   "outputs": [],
   "source": [
    "# row-level 예측 수행\n",
    "y_test_pred = model.predict(X_test)\n",
    "# 예측 결과를 변환\n",
    "y_test_pred_labels = le_target.inverse_transform(y_test_pred)\n",
    "\n",
    "# row 단위 예측 결과를 test_data에 추가\n",
    "test_data = test_df.copy()  # 원본 유지\n",
    "test_data[\"pred_label\"] = y_test_pred_labels"
   ]
  },
  {
   "cell_type": "markdown",
   "metadata": {},
   "source": [
    "### Submission"
   ]
  },
  {
   "cell_type": "code",
   "execution_count": null,
   "metadata": {},
   "outputs": [],
   "source": [
    "submission = test_data.groupby(\"ID\")[\"pred_label\"] \\\n",
    "    .agg(lambda x: x.value_counts().idxmax()) \\\n",
    "    .reset_index()\n",
    "\n",
    "submission.columns = [\"ID\", \"Segment\"]"
   ]
  },
  {
   "cell_type": "code",
   "execution_count": null,
   "metadata": {},
   "outputs": [],
   "source": [
    "submission.to_csv('./base_submit.csv',index=False)"
   ]
  },
  {
   "cell_type": "code",
   "execution_count": null,
   "metadata": {},
   "outputs": [],
   "source": []
  }
 ],
 "metadata": {
  "kernelspec": {
   "display_name": ".venv",
   "language": "python",
   "name": "python3"
  },
  "language_info": {
   "codemirror_mode": {
    "name": "ipython",
    "version": 3
   },
   "file_extension": ".py",
   "mimetype": "text/x-python",
   "name": "python",
   "nbconvert_exporter": "python",
   "pygments_lexer": "ipython3",
   "version": "3.11.9"
  }
 },
 "nbformat": 4,
 "nbformat_minor": 2
}
